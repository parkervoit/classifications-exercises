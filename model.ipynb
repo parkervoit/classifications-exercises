{
 "cells": [
  {
   "cell_type": "code",
   "execution_count": 2,
   "metadata": {},
   "outputs": [],
   "source": [
    "from env import host, username, password\n",
    "import numpy as np\n",
    "import seaborn as sns\n",
    "import scipy.stats as stats\n",
    "import pandas as pd\n",
    "import matplotlib.pyplot as plt\n",
    "from pydataset import data\n",
    "import acquire as ac\n",
    "import prepare as prep\n",
    "import analysis as an\n",
    "import explore as ex\n",
    "from sklearn.ensemble import RandomForestClassifier\n",
    "from sklearn.model_selection import train_test_split\n",
    "from sklearn.tree import DecisionTreeClassifier, plot_tree, export_text, export_graphviz\n",
    "from sklearn.metrics import classification_report, confusion_matrix, recall_score, precision_score, accuracy_score\n",
    "import knn_lesson_util as util\n",
    "from sklearn.neighbors import KNeighborsClassifier\n",
    "from sklearn.linear_model import LogisticRegression"
   ]
  },
  {
   "cell_type": "markdown",
   "metadata": {},
   "source": [
    "# Decision Tree Exercises\n",
    "Using the titanic data, in your classification-exercises repository, create a notebook, model.ipynb where you will do the following:"
   ]
  },
  {
   "cell_type": "markdown",
   "metadata": {},
   "source": [
    "### 1. What is your baseline prediction? What is your baseline accuracy? remember: your baseline prediction for a classification problem is predicting the most prevelant class in the training dataset (the mode). When you make those predictions, what is your accuracy? This is your baseline accuracy."
   ]
  },
  {
   "cell_type": "code",
   "execution_count": 5,
   "metadata": {},
   "outputs": [
    {
     "data": {
      "text/html": [
       "<div>\n",
       "<style scoped>\n",
       "    .dataframe tbody tr th:only-of-type {\n",
       "        vertical-align: middle;\n",
       "    }\n",
       "\n",
       "    .dataframe tbody tr th {\n",
       "        vertical-align: top;\n",
       "    }\n",
       "\n",
       "    .dataframe thead th {\n",
       "        text-align: right;\n",
       "    }\n",
       "</style>\n",
       "<table border=\"1\" class=\"dataframe\">\n",
       "  <thead>\n",
       "    <tr style=\"text-align: right;\">\n",
       "      <th></th>\n",
       "      <th>passenger_id</th>\n",
       "      <th>survived</th>\n",
       "      <th>pclass</th>\n",
       "      <th>sex</th>\n",
       "      <th>age</th>\n",
       "      <th>sibsp</th>\n",
       "      <th>parch</th>\n",
       "      <th>fare</th>\n",
       "      <th>embarked</th>\n",
       "      <th>class</th>\n",
       "      <th>deck</th>\n",
       "      <th>embark_town</th>\n",
       "      <th>alone</th>\n",
       "    </tr>\n",
       "  </thead>\n",
       "  <tbody>\n",
       "    <tr>\n",
       "      <th>0</th>\n",
       "      <td>0</td>\n",
       "      <td>0</td>\n",
       "      <td>3</td>\n",
       "      <td>male</td>\n",
       "      <td>22.0</td>\n",
       "      <td>1</td>\n",
       "      <td>0</td>\n",
       "      <td>7.2500</td>\n",
       "      <td>S</td>\n",
       "      <td>Third</td>\n",
       "      <td>None</td>\n",
       "      <td>Southampton</td>\n",
       "      <td>0</td>\n",
       "    </tr>\n",
       "    <tr>\n",
       "      <th>1</th>\n",
       "      <td>1</td>\n",
       "      <td>1</td>\n",
       "      <td>1</td>\n",
       "      <td>female</td>\n",
       "      <td>38.0</td>\n",
       "      <td>1</td>\n",
       "      <td>0</td>\n",
       "      <td>71.2833</td>\n",
       "      <td>C</td>\n",
       "      <td>First</td>\n",
       "      <td>C</td>\n",
       "      <td>Cherbourg</td>\n",
       "      <td>0</td>\n",
       "    </tr>\n",
       "    <tr>\n",
       "      <th>2</th>\n",
       "      <td>2</td>\n",
       "      <td>1</td>\n",
       "      <td>3</td>\n",
       "      <td>female</td>\n",
       "      <td>26.0</td>\n",
       "      <td>0</td>\n",
       "      <td>0</td>\n",
       "      <td>7.9250</td>\n",
       "      <td>S</td>\n",
       "      <td>Third</td>\n",
       "      <td>None</td>\n",
       "      <td>Southampton</td>\n",
       "      <td>1</td>\n",
       "    </tr>\n",
       "    <tr>\n",
       "      <th>3</th>\n",
       "      <td>3</td>\n",
       "      <td>1</td>\n",
       "      <td>1</td>\n",
       "      <td>female</td>\n",
       "      <td>35.0</td>\n",
       "      <td>1</td>\n",
       "      <td>0</td>\n",
       "      <td>53.1000</td>\n",
       "      <td>S</td>\n",
       "      <td>First</td>\n",
       "      <td>C</td>\n",
       "      <td>Southampton</td>\n",
       "      <td>0</td>\n",
       "    </tr>\n",
       "    <tr>\n",
       "      <th>4</th>\n",
       "      <td>4</td>\n",
       "      <td>0</td>\n",
       "      <td>3</td>\n",
       "      <td>male</td>\n",
       "      <td>35.0</td>\n",
       "      <td>0</td>\n",
       "      <td>0</td>\n",
       "      <td>8.0500</td>\n",
       "      <td>S</td>\n",
       "      <td>Third</td>\n",
       "      <td>None</td>\n",
       "      <td>Southampton</td>\n",
       "      <td>1</td>\n",
       "    </tr>\n",
       "    <tr>\n",
       "      <th>...</th>\n",
       "      <td>...</td>\n",
       "      <td>...</td>\n",
       "      <td>...</td>\n",
       "      <td>...</td>\n",
       "      <td>...</td>\n",
       "      <td>...</td>\n",
       "      <td>...</td>\n",
       "      <td>...</td>\n",
       "      <td>...</td>\n",
       "      <td>...</td>\n",
       "      <td>...</td>\n",
       "      <td>...</td>\n",
       "      <td>...</td>\n",
       "    </tr>\n",
       "    <tr>\n",
       "      <th>886</th>\n",
       "      <td>886</td>\n",
       "      <td>0</td>\n",
       "      <td>2</td>\n",
       "      <td>male</td>\n",
       "      <td>27.0</td>\n",
       "      <td>0</td>\n",
       "      <td>0</td>\n",
       "      <td>13.0000</td>\n",
       "      <td>S</td>\n",
       "      <td>Second</td>\n",
       "      <td>None</td>\n",
       "      <td>Southampton</td>\n",
       "      <td>1</td>\n",
       "    </tr>\n",
       "    <tr>\n",
       "      <th>887</th>\n",
       "      <td>887</td>\n",
       "      <td>1</td>\n",
       "      <td>1</td>\n",
       "      <td>female</td>\n",
       "      <td>19.0</td>\n",
       "      <td>0</td>\n",
       "      <td>0</td>\n",
       "      <td>30.0000</td>\n",
       "      <td>S</td>\n",
       "      <td>First</td>\n",
       "      <td>B</td>\n",
       "      <td>Southampton</td>\n",
       "      <td>1</td>\n",
       "    </tr>\n",
       "    <tr>\n",
       "      <th>888</th>\n",
       "      <td>888</td>\n",
       "      <td>0</td>\n",
       "      <td>3</td>\n",
       "      <td>female</td>\n",
       "      <td>NaN</td>\n",
       "      <td>1</td>\n",
       "      <td>2</td>\n",
       "      <td>23.4500</td>\n",
       "      <td>S</td>\n",
       "      <td>Third</td>\n",
       "      <td>None</td>\n",
       "      <td>Southampton</td>\n",
       "      <td>0</td>\n",
       "    </tr>\n",
       "    <tr>\n",
       "      <th>889</th>\n",
       "      <td>889</td>\n",
       "      <td>1</td>\n",
       "      <td>1</td>\n",
       "      <td>male</td>\n",
       "      <td>26.0</td>\n",
       "      <td>0</td>\n",
       "      <td>0</td>\n",
       "      <td>30.0000</td>\n",
       "      <td>C</td>\n",
       "      <td>First</td>\n",
       "      <td>C</td>\n",
       "      <td>Cherbourg</td>\n",
       "      <td>1</td>\n",
       "    </tr>\n",
       "    <tr>\n",
       "      <th>890</th>\n",
       "      <td>890</td>\n",
       "      <td>0</td>\n",
       "      <td>3</td>\n",
       "      <td>male</td>\n",
       "      <td>32.0</td>\n",
       "      <td>0</td>\n",
       "      <td>0</td>\n",
       "      <td>7.7500</td>\n",
       "      <td>Q</td>\n",
       "      <td>Third</td>\n",
       "      <td>None</td>\n",
       "      <td>Queenstown</td>\n",
       "      <td>1</td>\n",
       "    </tr>\n",
       "  </tbody>\n",
       "</table>\n",
       "<p>891 rows × 13 columns</p>\n",
       "</div>"
      ],
      "text/plain": [
       "     passenger_id  survived  pclass     sex   age  sibsp  parch     fare  \\\n",
       "0               0         0       3    male  22.0      1      0   7.2500   \n",
       "1               1         1       1  female  38.0      1      0  71.2833   \n",
       "2               2         1       3  female  26.0      0      0   7.9250   \n",
       "3               3         1       1  female  35.0      1      0  53.1000   \n",
       "4               4         0       3    male  35.0      0      0   8.0500   \n",
       "..            ...       ...     ...     ...   ...    ...    ...      ...   \n",
       "886           886         0       2    male  27.0      0      0  13.0000   \n",
       "887           887         1       1  female  19.0      0      0  30.0000   \n",
       "888           888         0       3  female   NaN      1      2  23.4500   \n",
       "889           889         1       1    male  26.0      0      0  30.0000   \n",
       "890           890         0       3    male  32.0      0      0   7.7500   \n",
       "\n",
       "    embarked   class  deck  embark_town  alone  \n",
       "0          S   Third  None  Southampton      0  \n",
       "1          C   First     C    Cherbourg      0  \n",
       "2          S   Third  None  Southampton      1  \n",
       "3          S   First     C  Southampton      0  \n",
       "4          S   Third  None  Southampton      1  \n",
       "..       ...     ...   ...          ...    ...  \n",
       "886        S  Second  None  Southampton      1  \n",
       "887        S   First     B  Southampton      1  \n",
       "888        S   Third  None  Southampton      0  \n",
       "889        C   First     C    Cherbourg      1  \n",
       "890        Q   Third  None   Queenstown      1  \n",
       "\n",
       "[891 rows x 13 columns]"
      ]
     },
     "execution_count": 5,
     "metadata": {},
     "output_type": "execute_result"
    }
   ],
   "source": [
    "df_titanic = ac.get_titanic_data()\n",
    "df_titanic"
   ]
  },
  {
   "cell_type": "code",
   "execution_count": 6,
   "metadata": {},
   "outputs": [
    {
     "data": {
      "text/plain": [
       "0    549\n",
       "1    342\n",
       "Name: survived, dtype: int64"
      ]
     },
     "execution_count": 6,
     "metadata": {},
     "output_type": "execute_result"
    }
   ],
   "source": [
    "df_titanic.survived.value_counts()"
   ]
  },
  {
   "cell_type": "code",
   "execution_count": 7,
   "metadata": {},
   "outputs": [
    {
     "name": "stderr",
     "output_type": "stream",
     "text": [
      "/Users/parkervoit/Desktop/codeup-data-science/classifications-exercises/prepare.py:24: SettingWithCopyWarning: \n",
      "A value is trying to be set on a copy of a slice from a DataFrame.\n",
      "Try using .loc[row_indexer,col_indexer] = value instead\n",
      "\n",
      "See the caveats in the documentation: https://pandas.pydata.org/pandas-docs/stable/user_guide/indexing.html#returning-a-view-versus-a-copy\n",
      "  test[['embark_town']] = imputer.transform(test[['embark_town']])\n",
      "/Users/parkervoit/opt/anaconda3/lib/python3.8/site-packages/pandas/core/indexing.py:1736: SettingWithCopyWarning: \n",
      "A value is trying to be set on a copy of a slice from a DataFrame.\n",
      "Try using .loc[row_indexer,col_indexer] = value instead\n",
      "\n",
      "See the caveats in the documentation: https://pandas.pydata.org/pandas-docs/stable/user_guide/indexing.html#returning-a-view-versus-a-copy\n",
      "  isetter(loc, value[:, i].tolist())\n"
     ]
    },
    {
     "data": {
      "text/html": [
       "<div>\n",
       "<style scoped>\n",
       "    .dataframe tbody tr th:only-of-type {\n",
       "        vertical-align: middle;\n",
       "    }\n",
       "\n",
       "    .dataframe tbody tr th {\n",
       "        vertical-align: top;\n",
       "    }\n",
       "\n",
       "    .dataframe thead th {\n",
       "        text-align: right;\n",
       "    }\n",
       "</style>\n",
       "<table border=\"1\" class=\"dataframe\">\n",
       "  <thead>\n",
       "    <tr style=\"text-align: right;\">\n",
       "      <th></th>\n",
       "      <th>survived</th>\n",
       "      <th>pclass</th>\n",
       "      <th>sibsp</th>\n",
       "      <th>parch</th>\n",
       "      <th>fare</th>\n",
       "      <th>alone</th>\n",
       "      <th>sex_male</th>\n",
       "      <th>embark_town_Queenstown</th>\n",
       "      <th>embark_town_Southampton</th>\n",
       "    </tr>\n",
       "  </thead>\n",
       "  <tbody>\n",
       "    <tr>\n",
       "      <th>474</th>\n",
       "      <td>0</td>\n",
       "      <td>3</td>\n",
       "      <td>0</td>\n",
       "      <td>0</td>\n",
       "      <td>9.8375</td>\n",
       "      <td>1</td>\n",
       "      <td>0</td>\n",
       "      <td>0</td>\n",
       "      <td>1</td>\n",
       "    </tr>\n",
       "    <tr>\n",
       "      <th>370</th>\n",
       "      <td>1</td>\n",
       "      <td>1</td>\n",
       "      <td>1</td>\n",
       "      <td>0</td>\n",
       "      <td>55.4417</td>\n",
       "      <td>0</td>\n",
       "      <td>1</td>\n",
       "      <td>0</td>\n",
       "      <td>0</td>\n",
       "    </tr>\n",
       "    <tr>\n",
       "      <th>573</th>\n",
       "      <td>1</td>\n",
       "      <td>3</td>\n",
       "      <td>0</td>\n",
       "      <td>0</td>\n",
       "      <td>7.7500</td>\n",
       "      <td>1</td>\n",
       "      <td>0</td>\n",
       "      <td>1</td>\n",
       "      <td>0</td>\n",
       "    </tr>\n",
       "    <tr>\n",
       "      <th>110</th>\n",
       "      <td>0</td>\n",
       "      <td>1</td>\n",
       "      <td>0</td>\n",
       "      <td>0</td>\n",
       "      <td>52.0000</td>\n",
       "      <td>1</td>\n",
       "      <td>1</td>\n",
       "      <td>0</td>\n",
       "      <td>1</td>\n",
       "    </tr>\n",
       "    <tr>\n",
       "      <th>167</th>\n",
       "      <td>0</td>\n",
       "      <td>3</td>\n",
       "      <td>1</td>\n",
       "      <td>4</td>\n",
       "      <td>27.9000</td>\n",
       "      <td>0</td>\n",
       "      <td>0</td>\n",
       "      <td>0</td>\n",
       "      <td>1</td>\n",
       "    </tr>\n",
       "  </tbody>\n",
       "</table>\n",
       "</div>"
      ],
      "text/plain": [
       "     survived  pclass  sibsp  parch     fare  alone  sex_male  \\\n",
       "474         0       3      0      0   9.8375      1         0   \n",
       "370         1       1      1      0  55.4417      0         1   \n",
       "573         1       3      0      0   7.7500      1         0   \n",
       "110         0       1      0      0  52.0000      1         1   \n",
       "167         0       3      1      4  27.9000      0         0   \n",
       "\n",
       "     embark_town_Queenstown  embark_town_Southampton  \n",
       "474                       0                        1  \n",
       "370                       0                        0  \n",
       "573                       1                        0  \n",
       "110                       0                        1  \n",
       "167                       0                        1  "
      ]
     },
     "execution_count": 7,
     "metadata": {},
     "output_type": "execute_result"
    }
   ],
   "source": [
    "train, validate, test = prep.prep_titanic_data(df_titanic)\n",
    "train.head()"
   ]
  },
  {
   "cell_type": "code",
   "execution_count": 8,
   "metadata": {},
   "outputs": [
    {
     "data": {
      "text/plain": [
       "0    307\n",
       "1    191\n",
       "Name: survived, dtype: int64"
      ]
     },
     "execution_count": 8,
     "metadata": {},
     "output_type": "execute_result"
    }
   ],
   "source": [
    "train.survived.value_counts()"
   ]
  },
  {
   "cell_type": "code",
   "execution_count": 9,
   "metadata": {},
   "outputs": [],
   "source": [
    "train['baseline'] = 0"
   ]
  },
  {
   "cell_type": "code",
   "execution_count": 10,
   "metadata": {},
   "outputs": [
    {
     "name": "stdout",
     "output_type": "stream",
     "text": [
      "Baseline accuracy is 61.65%\n"
     ]
    }
   ],
   "source": [
    "baseline_accuracy = (train.baseline == train.survived).mean()\n",
    "print(f'Baseline accuracy is {baseline_accuracy:.2%}')"
   ]
  },
  {
   "cell_type": "markdown",
   "metadata": {},
   "source": [
    "### 2. Fit the decision tree classifier to your training sample and transform (i.e. make predictions on the training sample)"
   ]
  },
  {
   "cell_type": "code",
   "execution_count": 11,
   "metadata": {},
   "outputs": [],
   "source": [
    "X_cols = ['pclass', 'sex_male', 'alone']\n",
    "y_col = 'survived'\n",
    "X_train, y_train = train[X_cols], train[y_col]\n",
    "X_validate, y_validate = validate[X_cols], validate[y_col]\n",
    "X_test, y_test = test[X_cols], test[y_col]"
   ]
  },
  {
   "cell_type": "code",
   "execution_count": 85,
   "metadata": {},
   "outputs": [
    {
     "data": {
      "text/plain": [
       "DecisionTreeClassifier()"
      ]
     },
     "execution_count": 85,
     "metadata": {},
     "output_type": "execute_result"
    }
   ],
   "source": [
    "model1 = DecisionTreeClassifier()\n",
    "model1.fit(X_train, y_train)"
   ]
  },
  {
   "cell_type": "code",
   "execution_count": 86,
   "metadata": {},
   "outputs": [
    {
     "name": "stdout",
     "output_type": "stream",
     "text": [
      "training score: 81.33%\n",
      "validate score: 74.30%\n"
     ]
    }
   ],
   "source": [
    "print(f'training score: {model1.score(X_train, y_train):.2%}')\n",
    "print(f'validate score: {model1.score(X_validate, y_validate):.2%}')"
   ]
  },
  {
   "cell_type": "code",
   "execution_count": 87,
   "metadata": {},
   "outputs": [
    {
     "data": {
      "image/png": "[encoded data removed]",
      "text/plain": [
       "<Figure size 3600x2880 with 1 Axes>"
      ]
     },
     "metadata": {
      "needs_background": "light"
     },
     "output_type": "display_data"
    }
   ],
   "source": [
    "plt.figure(figsize = [50,40])\n",
    "plt.show(plot_tree(model1))"
   ]
  },
  {
   "cell_type": "code",
   "execution_count": 88,
   "metadata": {},
   "outputs": [],
   "source": [
    "train['model1_pred'] = model1.predict(X_train)"
   ]
  },
  {
   "cell_type": "code",
   "execution_count": 89,
   "metadata": {},
   "outputs": [
    {
     "data": {
      "text/html": [
       "<div>\n",
       "<style scoped>\n",
       "    .dataframe tbody tr th:only-of-type {\n",
       "        vertical-align: middle;\n",
       "    }\n",
       "\n",
       "    .dataframe tbody tr th {\n",
       "        vertical-align: top;\n",
       "    }\n",
       "\n",
       "    .dataframe thead th {\n",
       "        text-align: right;\n",
       "    }\n",
       "</style>\n",
       "<table border=\"1\" class=\"dataframe\">\n",
       "  <thead>\n",
       "    <tr style=\"text-align: right;\">\n",
       "      <th></th>\n",
       "      <th>survived</th>\n",
       "      <th>pclass</th>\n",
       "      <th>sibsp</th>\n",
       "      <th>parch</th>\n",
       "      <th>fare</th>\n",
       "      <th>alone</th>\n",
       "      <th>sex_male</th>\n",
       "      <th>embark_town_Queenstown</th>\n",
       "      <th>embark_town_Southampton</th>\n",
       "      <th>baseline</th>\n",
       "      <th>model1_pred</th>\n",
       "    </tr>\n",
       "  </thead>\n",
       "  <tbody>\n",
       "    <tr>\n",
       "      <th>474</th>\n",
       "      <td>0</td>\n",
       "      <td>3</td>\n",
       "      <td>0</td>\n",
       "      <td>0</td>\n",
       "      <td>9.8375</td>\n",
       "      <td>1</td>\n",
       "      <td>0</td>\n",
       "      <td>0</td>\n",
       "      <td>1</td>\n",
       "      <td>0</td>\n",
       "      <td>1</td>\n",
       "    </tr>\n",
       "    <tr>\n",
       "      <th>370</th>\n",
       "      <td>1</td>\n",
       "      <td>1</td>\n",
       "      <td>1</td>\n",
       "      <td>0</td>\n",
       "      <td>55.4417</td>\n",
       "      <td>0</td>\n",
       "      <td>1</td>\n",
       "      <td>0</td>\n",
       "      <td>0</td>\n",
       "      <td>0</td>\n",
       "      <td>1</td>\n",
       "    </tr>\n",
       "    <tr>\n",
       "      <th>573</th>\n",
       "      <td>1</td>\n",
       "      <td>3</td>\n",
       "      <td>0</td>\n",
       "      <td>0</td>\n",
       "      <td>7.7500</td>\n",
       "      <td>1</td>\n",
       "      <td>0</td>\n",
       "      <td>1</td>\n",
       "      <td>0</td>\n",
       "      <td>0</td>\n",
       "      <td>1</td>\n",
       "    </tr>\n",
       "    <tr>\n",
       "      <th>110</th>\n",
       "      <td>0</td>\n",
       "      <td>1</td>\n",
       "      <td>0</td>\n",
       "      <td>0</td>\n",
       "      <td>52.0000</td>\n",
       "      <td>1</td>\n",
       "      <td>1</td>\n",
       "      <td>0</td>\n",
       "      <td>1</td>\n",
       "      <td>0</td>\n",
       "      <td>0</td>\n",
       "    </tr>\n",
       "    <tr>\n",
       "      <th>167</th>\n",
       "      <td>0</td>\n",
       "      <td>3</td>\n",
       "      <td>1</td>\n",
       "      <td>4</td>\n",
       "      <td>27.9000</td>\n",
       "      <td>0</td>\n",
       "      <td>0</td>\n",
       "      <td>0</td>\n",
       "      <td>1</td>\n",
       "      <td>0</td>\n",
       "      <td>0</td>\n",
       "    </tr>\n",
       "    <tr>\n",
       "      <th>...</th>\n",
       "      <td>...</td>\n",
       "      <td>...</td>\n",
       "      <td>...</td>\n",
       "      <td>...</td>\n",
       "      <td>...</td>\n",
       "      <td>...</td>\n",
       "      <td>...</td>\n",
       "      <td>...</td>\n",
       "      <td>...</td>\n",
       "      <td>...</td>\n",
       "      <td>...</td>\n",
       "    </tr>\n",
       "    <tr>\n",
       "      <th>735</th>\n",
       "      <td>0</td>\n",
       "      <td>3</td>\n",
       "      <td>0</td>\n",
       "      <td>0</td>\n",
       "      <td>16.1000</td>\n",
       "      <td>1</td>\n",
       "      <td>1</td>\n",
       "      <td>0</td>\n",
       "      <td>1</td>\n",
       "      <td>0</td>\n",
       "      <td>0</td>\n",
       "    </tr>\n",
       "    <tr>\n",
       "      <th>163</th>\n",
       "      <td>0</td>\n",
       "      <td>3</td>\n",
       "      <td>0</td>\n",
       "      <td>0</td>\n",
       "      <td>8.6625</td>\n",
       "      <td>1</td>\n",
       "      <td>1</td>\n",
       "      <td>0</td>\n",
       "      <td>1</td>\n",
       "      <td>0</td>\n",
       "      <td>0</td>\n",
       "    </tr>\n",
       "    <tr>\n",
       "      <th>770</th>\n",
       "      <td>0</td>\n",
       "      <td>3</td>\n",
       "      <td>0</td>\n",
       "      <td>0</td>\n",
       "      <td>9.5000</td>\n",
       "      <td>1</td>\n",
       "      <td>1</td>\n",
       "      <td>0</td>\n",
       "      <td>1</td>\n",
       "      <td>0</td>\n",
       "      <td>0</td>\n",
       "    </tr>\n",
       "    <tr>\n",
       "      <th>196</th>\n",
       "      <td>0</td>\n",
       "      <td>3</td>\n",
       "      <td>0</td>\n",
       "      <td>0</td>\n",
       "      <td>7.7500</td>\n",
       "      <td>1</td>\n",
       "      <td>1</td>\n",
       "      <td>1</td>\n",
       "      <td>0</td>\n",
       "      <td>0</td>\n",
       "      <td>0</td>\n",
       "    </tr>\n",
       "    <tr>\n",
       "      <th>94</th>\n",
       "      <td>0</td>\n",
       "      <td>3</td>\n",
       "      <td>0</td>\n",
       "      <td>0</td>\n",
       "      <td>7.2500</td>\n",
       "      <td>1</td>\n",
       "      <td>1</td>\n",
       "      <td>0</td>\n",
       "      <td>1</td>\n",
       "      <td>0</td>\n",
       "      <td>0</td>\n",
       "    </tr>\n",
       "  </tbody>\n",
       "</table>\n",
       "<p>498 rows × 11 columns</p>\n",
       "</div>"
      ],
      "text/plain": [
       "     survived  pclass  sibsp  parch     fare  alone  sex_male  \\\n",
       "474         0       3      0      0   9.8375      1         0   \n",
       "370         1       1      1      0  55.4417      0         1   \n",
       "573         1       3      0      0   7.7500      1         0   \n",
       "110         0       1      0      0  52.0000      1         1   \n",
       "167         0       3      1      4  27.9000      0         0   \n",
       "..        ...     ...    ...    ...      ...    ...       ...   \n",
       "735         0       3      0      0  16.1000      1         1   \n",
       "163         0       3      0      0   8.6625      1         1   \n",
       "770         0       3      0      0   9.5000      1         1   \n",
       "196         0       3      0      0   7.7500      1         1   \n",
       "94          0       3      0      0   7.2500      1         1   \n",
       "\n",
       "     embark_town_Queenstown  embark_town_Southampton  baseline  model1_pred  \n",
       "474                       0                        1         0            1  \n",
       "370                       0                        0         0            1  \n",
       "573                       1                        0         0            1  \n",
       "110                       0                        1         0            0  \n",
       "167                       0                        1         0            0  \n",
       "..                      ...                      ...       ...          ...  \n",
       "735                       0                        1         0            0  \n",
       "163                       0                        1         0            0  \n",
       "770                       0                        1         0            0  \n",
       "196                       1                        0         0            0  \n",
       "94                        0                        1         0            0  \n",
       "\n",
       "[498 rows x 11 columns]"
      ]
     },
     "execution_count": 89,
     "metadata": {},
     "output_type": "execute_result"
    }
   ],
   "source": [
    "train"
   ]
  },
  {
   "cell_type": "code",
   "execution_count": 90,
   "metadata": {},
   "outputs": [
    {
     "data": {
      "text/html": [
       "<div>\n",
       "<style scoped>\n",
       "    .dataframe tbody tr th:only-of-type {\n",
       "        vertical-align: middle;\n",
       "    }\n",
       "\n",
       "    .dataframe tbody tr th {\n",
       "        vertical-align: top;\n",
       "    }\n",
       "\n",
       "    .dataframe thead th {\n",
       "        text-align: right;\n",
       "    }\n",
       "</style>\n",
       "<table border=\"1\" class=\"dataframe\">\n",
       "  <thead>\n",
       "    <tr style=\"text-align: right;\">\n",
       "      <th></th>\n",
       "      <th>survived</th>\n",
       "      <th>pclass</th>\n",
       "      <th>sibsp</th>\n",
       "      <th>parch</th>\n",
       "      <th>fare</th>\n",
       "      <th>alone</th>\n",
       "      <th>sex_male</th>\n",
       "      <th>embark_town_Queenstown</th>\n",
       "      <th>embark_town_Southampton</th>\n",
       "      <th>model1_pred</th>\n",
       "    </tr>\n",
       "  </thead>\n",
       "  <tbody>\n",
       "    <tr>\n",
       "      <th>569</th>\n",
       "      <td>1</td>\n",
       "      <td>3</td>\n",
       "      <td>0</td>\n",
       "      <td>0</td>\n",
       "      <td>7.8542</td>\n",
       "      <td>1</td>\n",
       "      <td>1</td>\n",
       "      <td>0</td>\n",
       "      <td>1</td>\n",
       "      <td>0</td>\n",
       "    </tr>\n",
       "    <tr>\n",
       "      <th>532</th>\n",
       "      <td>0</td>\n",
       "      <td>3</td>\n",
       "      <td>1</td>\n",
       "      <td>1</td>\n",
       "      <td>7.2292</td>\n",
       "      <td>0</td>\n",
       "      <td>1</td>\n",
       "      <td>0</td>\n",
       "      <td>0</td>\n",
       "      <td>0</td>\n",
       "    </tr>\n",
       "    <tr>\n",
       "      <th>223</th>\n",
       "      <td>0</td>\n",
       "      <td>3</td>\n",
       "      <td>0</td>\n",
       "      <td>0</td>\n",
       "      <td>7.8958</td>\n",
       "      <td>1</td>\n",
       "      <td>1</td>\n",
       "      <td>0</td>\n",
       "      <td>1</td>\n",
       "      <td>0</td>\n",
       "    </tr>\n",
       "    <tr>\n",
       "      <th>35</th>\n",
       "      <td>0</td>\n",
       "      <td>1</td>\n",
       "      <td>1</td>\n",
       "      <td>0</td>\n",
       "      <td>52.0000</td>\n",
       "      <td>0</td>\n",
       "      <td>1</td>\n",
       "      <td>0</td>\n",
       "      <td>1</td>\n",
       "      <td>1</td>\n",
       "    </tr>\n",
       "    <tr>\n",
       "      <th>93</th>\n",
       "      <td>0</td>\n",
       "      <td>3</td>\n",
       "      <td>1</td>\n",
       "      <td>2</td>\n",
       "      <td>20.5750</td>\n",
       "      <td>0</td>\n",
       "      <td>1</td>\n",
       "      <td>0</td>\n",
       "      <td>1</td>\n",
       "      <td>0</td>\n",
       "    </tr>\n",
       "    <tr>\n",
       "      <th>...</th>\n",
       "      <td>...</td>\n",
       "      <td>...</td>\n",
       "      <td>...</td>\n",
       "      <td>...</td>\n",
       "      <td>...</td>\n",
       "      <td>...</td>\n",
       "      <td>...</td>\n",
       "      <td>...</td>\n",
       "      <td>...</td>\n",
       "      <td>...</td>\n",
       "    </tr>\n",
       "    <tr>\n",
       "      <th>91</th>\n",
       "      <td>0</td>\n",
       "      <td>3</td>\n",
       "      <td>0</td>\n",
       "      <td>0</td>\n",
       "      <td>7.8542</td>\n",
       "      <td>1</td>\n",
       "      <td>1</td>\n",
       "      <td>0</td>\n",
       "      <td>1</td>\n",
       "      <td>0</td>\n",
       "    </tr>\n",
       "    <tr>\n",
       "      <th>258</th>\n",
       "      <td>1</td>\n",
       "      <td>1</td>\n",
       "      <td>0</td>\n",
       "      <td>0</td>\n",
       "      <td>512.3292</td>\n",
       "      <td>1</td>\n",
       "      <td>0</td>\n",
       "      <td>0</td>\n",
       "      <td>0</td>\n",
       "      <td>1</td>\n",
       "    </tr>\n",
       "    <tr>\n",
       "      <th>186</th>\n",
       "      <td>1</td>\n",
       "      <td>3</td>\n",
       "      <td>1</td>\n",
       "      <td>0</td>\n",
       "      <td>15.5000</td>\n",
       "      <td>0</td>\n",
       "      <td>0</td>\n",
       "      <td>1</td>\n",
       "      <td>0</td>\n",
       "      <td>0</td>\n",
       "    </tr>\n",
       "    <tr>\n",
       "      <th>108</th>\n",
       "      <td>0</td>\n",
       "      <td>3</td>\n",
       "      <td>0</td>\n",
       "      <td>0</td>\n",
       "      <td>7.8958</td>\n",
       "      <td>1</td>\n",
       "      <td>1</td>\n",
       "      <td>0</td>\n",
       "      <td>1</td>\n",
       "      <td>0</td>\n",
       "    </tr>\n",
       "    <tr>\n",
       "      <th>845</th>\n",
       "      <td>0</td>\n",
       "      <td>3</td>\n",
       "      <td>0</td>\n",
       "      <td>0</td>\n",
       "      <td>7.5500</td>\n",
       "      <td>1</td>\n",
       "      <td>1</td>\n",
       "      <td>0</td>\n",
       "      <td>1</td>\n",
       "      <td>0</td>\n",
       "    </tr>\n",
       "  </tbody>\n",
       "</table>\n",
       "<p>214 rows × 10 columns</p>\n",
       "</div>"
      ],
      "text/plain": [
       "     survived  pclass  sibsp  parch      fare  alone  sex_male  \\\n",
       "569         1       3      0      0    7.8542      1         1   \n",
       "532         0       3      1      1    7.2292      0         1   \n",
       "223         0       3      0      0    7.8958      1         1   \n",
       "35          0       1      1      0   52.0000      0         1   \n",
       "93          0       3      1      2   20.5750      0         1   \n",
       "..        ...     ...    ...    ...       ...    ...       ...   \n",
       "91          0       3      0      0    7.8542      1         1   \n",
       "258         1       1      0      0  512.3292      1         0   \n",
       "186         1       3      1      0   15.5000      0         0   \n",
       "108         0       3      0      0    7.8958      1         1   \n",
       "845         0       3      0      0    7.5500      1         1   \n",
       "\n",
       "     embark_town_Queenstown  embark_town_Southampton  model1_pred  \n",
       "569                       0                        1            0  \n",
       "532                       0                        0            0  \n",
       "223                       0                        1            0  \n",
       "35                        0                        1            1  \n",
       "93                        0                        1            0  \n",
       "..                      ...                      ...          ...  \n",
       "91                        0                        1            0  \n",
       "258                       0                        0            1  \n",
       "186                       1                        0            0  \n",
       "108                       0                        1            0  \n",
       "845                       0                        1            0  \n",
       "\n",
       "[214 rows x 10 columns]"
      ]
     },
     "execution_count": 90,
     "metadata": {},
     "output_type": "execute_result"
    }
   ],
   "source": [
    "validate['model1_pred'] = model1.predict(X_validate)\n",
    "validate"
   ]
  },
  {
   "cell_type": "code",
   "execution_count": 91,
   "metadata": {},
   "outputs": [
    {
     "name": "stdout",
     "output_type": "stream",
     "text": [
      "              precision    recall  f1-score   support\n",
      "\n",
      "           0       0.81      0.91      0.86       307\n",
      "           1       0.81      0.66      0.73       191\n",
      "\n",
      "    accuracy                           0.81       498\n",
      "   macro avg       0.81      0.79      0.79       498\n",
      "weighted avg       0.81      0.81      0.81       498\n",
      "\n"
     ]
    }
   ],
   "source": [
    "print(classification_report(train.survived, train.model1_pred))"
   ]
  },
  {
   "cell_type": "code",
   "execution_count": null,
   "metadata": {},
   "outputs": [],
   "source": [
    "X_train, y_train = train[X_cols], train[y_col]\n",
    "X_validate, y_validate = validate[X_cols], validate[y_col]\n",
    "X_test, y_test = test[X_cols], test[y_col]"
   ]
  },
  {
   "cell_type": "code",
   "execution_count": 92,
   "metadata": {},
   "outputs": [
    {
     "name": "stdout",
     "output_type": "stream",
     "text": [
      "Train model is 81.33%\n",
      "Validate model is 74.30%\n"
     ]
    }
   ],
   "source": [
    "print(f'Train model is {model1.score(X_train, y_train):.2%}')\n",
    "print(f'Validate model is {model1.score(X_validate, y_validate):.2%}')"
   ]
  },
  {
   "cell_type": "code",
   "execution_count": 93,
   "metadata": {},
   "outputs": [
    {
     "data": {
      "text/plain": [
       "array([[278,  29],\n",
       "       [ 64, 127]])"
      ]
     },
     "execution_count": 93,
     "metadata": {},
     "output_type": "execute_result"
    }
   ],
   "source": [
    "matrix1 = confusion_matrix(train.survived, train.model1_pred)\n",
    "matrix1"
   ]
  },
  {
   "cell_type": "markdown",
   "metadata": {},
   "source": [
    "### 4. Compute: Accuracy, true positive rate, false positive rate, true negative rate, false negative rate, precision, recall, f1-score, and support."
   ]
  },
  {
   "cell_type": "code",
   "execution_count": 94,
   "metadata": {},
   "outputs": [
    {
     "name": "stdout",
     "output_type": "stream",
     "text": [
      "              precision    recall  f1-score   support\n",
      "\n",
      "           0       0.76      0.86      0.80       132\n",
      "           1       0.71      0.56      0.63        82\n",
      "\n",
      "    accuracy                           0.74       214\n",
      "   macro avg       0.73      0.71      0.72       214\n",
      "weighted avg       0.74      0.74      0.74       214\n",
      "\n"
     ]
    }
   ],
   "source": [
    "print(classification_report(validate.survived, validate.model1_pred))"
   ]
  },
  {
   "cell_type": "code",
   "execution_count": 95,
   "metadata": {},
   "outputs": [
    {
     "data": {
      "text/plain": [
       "array([[113,  19],\n",
       "       [ 36,  46]])"
      ]
     },
     "execution_count": 95,
     "metadata": {},
     "output_type": "execute_result"
    }
   ],
   "source": [
    "val_matrix1 = confusion_matrix(validate.survived, validate.model1_pred)\n",
    "val_matrix1"
   ]
  },
  {
   "cell_type": "code",
   "execution_count": 96,
   "metadata": {},
   "outputs": [
    {
     "name": "stdout",
     "output_type": "stream",
     "text": [
      "Validate model accuracy is 74.30%\n"
     ]
    }
   ],
   "source": [
    "print(f'Validate model accuracy is {model1.score(X_validate, y_validate):.2%}')"
   ]
  },
  {
   "cell_type": "code",
   "execution_count": 97,
   "metadata": {},
   "outputs": [],
   "source": [
    "tpr = val_matrix1[1][1] / (val_matrix1[1][1] + val_matrix1[1][0])"
   ]
  },
  {
   "cell_type": "code",
   "execution_count": 98,
   "metadata": {},
   "outputs": [
    {
     "name": "stdout",
     "output_type": "stream",
     "text": [
      "True positive rate is 56.10%\n"
     ]
    }
   ],
   "source": [
    "print(f'True positive rate is {tpr:.2%}')"
   ]
  },
  {
   "cell_type": "code",
   "execution_count": 99,
   "metadata": {},
   "outputs": [
    {
     "name": "stdout",
     "output_type": "stream",
     "text": [
      "False positive rate is 14.39%\n"
     ]
    }
   ],
   "source": [
    "fpr = val_matrix1[0,1] / (val_matrix1[0,1] + val_matrix1[0,0])\n",
    "print(f'False positive rate is {fpr:.2%}')"
   ]
  },
  {
   "cell_type": "code",
   "execution_count": 100,
   "metadata": {},
   "outputs": [
    {
     "name": "stdout",
     "output_type": "stream",
     "text": [
      "True negative rate is 85.61%\n"
     ]
    }
   ],
   "source": [
    "tnr = val_matrix1[0,0] / (val_matrix1[0,0] + val_matrix1[0,1])\n",
    "print(f'True negative rate is {tnr:.2%}')"
   ]
  },
  {
   "cell_type": "code",
   "execution_count": 101,
   "metadata": {},
   "outputs": [
    {
     "name": "stdout",
     "output_type": "stream",
     "text": [
      "False negative rate is 85.61%\n"
     ]
    }
   ],
   "source": [
    "fnr = val_matrix1[1,0] / (val_matrix1[1,1] + val_matrix1[1,0])\n",
    "print(f'False negative rate is {tnr:.2%}')"
   ]
  },
  {
   "cell_type": "markdown",
   "metadata": {},
   "source": [
    "### Run through steps 2-4 using a different max_depth value"
   ]
  },
  {
   "cell_type": "code",
   "execution_count": 102,
   "metadata": {},
   "outputs": [
    {
     "data": {
      "text/plain": [
       "DecisionTreeClassifier(max_depth=2)"
      ]
     },
     "execution_count": 102,
     "metadata": {},
     "output_type": "execute_result"
    }
   ],
   "source": [
    "model2 = DecisionTreeClassifier(max_depth = 2)\n",
    "model2.fit(X_train, y_train)"
   ]
  },
  {
   "cell_type": "code",
   "execution_count": 103,
   "metadata": {},
   "outputs": [
    {
     "data": {
      "image/png": "[encoded data removed]",
      "text/plain": [
       "<Figure size 3600x2880 with 1 Axes>"
      ]
     },
     "metadata": {
      "needs_background": "light"
     },
     "output_type": "display_data"
    }
   ],
   "source": [
    "plt.figure(figsize = [50,40])\n",
    "plt.show(plot_tree(model2))"
   ]
  },
  {
   "cell_type": "code",
   "execution_count": 104,
   "metadata": {},
   "outputs": [
    {
     "data": {
      "text/html": [
       "<div>\n",
       "<style scoped>\n",
       "    .dataframe tbody tr th:only-of-type {\n",
       "        vertical-align: middle;\n",
       "    }\n",
       "\n",
       "    .dataframe tbody tr th {\n",
       "        vertical-align: top;\n",
       "    }\n",
       "\n",
       "    .dataframe thead th {\n",
       "        text-align: right;\n",
       "    }\n",
       "</style>\n",
       "<table border=\"1\" class=\"dataframe\">\n",
       "  <thead>\n",
       "    <tr style=\"text-align: right;\">\n",
       "      <th></th>\n",
       "      <th>survived</th>\n",
       "      <th>pclass</th>\n",
       "      <th>sibsp</th>\n",
       "      <th>parch</th>\n",
       "      <th>fare</th>\n",
       "      <th>alone</th>\n",
       "      <th>sex_male</th>\n",
       "      <th>embark_town_Queenstown</th>\n",
       "      <th>embark_town_Southampton</th>\n",
       "      <th>baseline</th>\n",
       "      <th>model1_pred</th>\n",
       "      <th>model2_pred</th>\n",
       "    </tr>\n",
       "  </thead>\n",
       "  <tbody>\n",
       "    <tr>\n",
       "      <th>474</th>\n",
       "      <td>0</td>\n",
       "      <td>3</td>\n",
       "      <td>0</td>\n",
       "      <td>0</td>\n",
       "      <td>9.8375</td>\n",
       "      <td>1</td>\n",
       "      <td>0</td>\n",
       "      <td>0</td>\n",
       "      <td>1</td>\n",
       "      <td>0</td>\n",
       "      <td>1</td>\n",
       "      <td>0</td>\n",
       "    </tr>\n",
       "    <tr>\n",
       "      <th>370</th>\n",
       "      <td>1</td>\n",
       "      <td>1</td>\n",
       "      <td>1</td>\n",
       "      <td>0</td>\n",
       "      <td>55.4417</td>\n",
       "      <td>0</td>\n",
       "      <td>1</td>\n",
       "      <td>0</td>\n",
       "      <td>0</td>\n",
       "      <td>0</td>\n",
       "      <td>1</td>\n",
       "      <td>0</td>\n",
       "    </tr>\n",
       "    <tr>\n",
       "      <th>573</th>\n",
       "      <td>1</td>\n",
       "      <td>3</td>\n",
       "      <td>0</td>\n",
       "      <td>0</td>\n",
       "      <td>7.7500</td>\n",
       "      <td>1</td>\n",
       "      <td>0</td>\n",
       "      <td>1</td>\n",
       "      <td>0</td>\n",
       "      <td>0</td>\n",
       "      <td>1</td>\n",
       "      <td>0</td>\n",
       "    </tr>\n",
       "    <tr>\n",
       "      <th>110</th>\n",
       "      <td>0</td>\n",
       "      <td>1</td>\n",
       "      <td>0</td>\n",
       "      <td>0</td>\n",
       "      <td>52.0000</td>\n",
       "      <td>1</td>\n",
       "      <td>1</td>\n",
       "      <td>0</td>\n",
       "      <td>1</td>\n",
       "      <td>0</td>\n",
       "      <td>0</td>\n",
       "      <td>0</td>\n",
       "    </tr>\n",
       "    <tr>\n",
       "      <th>167</th>\n",
       "      <td>0</td>\n",
       "      <td>3</td>\n",
       "      <td>1</td>\n",
       "      <td>4</td>\n",
       "      <td>27.9000</td>\n",
       "      <td>0</td>\n",
       "      <td>0</td>\n",
       "      <td>0</td>\n",
       "      <td>1</td>\n",
       "      <td>0</td>\n",
       "      <td>0</td>\n",
       "      <td>0</td>\n",
       "    </tr>\n",
       "  </tbody>\n",
       "</table>\n",
       "</div>"
      ],
      "text/plain": [
       "     survived  pclass  sibsp  parch     fare  alone  sex_male  \\\n",
       "474         0       3      0      0   9.8375      1         0   \n",
       "370         1       1      1      0  55.4417      0         1   \n",
       "573         1       3      0      0   7.7500      1         0   \n",
       "110         0       1      0      0  52.0000      1         1   \n",
       "167         0       3      1      4  27.9000      0         0   \n",
       "\n",
       "     embark_town_Queenstown  embark_town_Southampton  baseline  model1_pred  \\\n",
       "474                       0                        1         0            1   \n",
       "370                       0                        0         0            1   \n",
       "573                       1                        0         0            1   \n",
       "110                       0                        1         0            0   \n",
       "167                       0                        1         0            0   \n",
       "\n",
       "     model2_pred  \n",
       "474            0  \n",
       "370            0  \n",
       "573            0  \n",
       "110            0  \n",
       "167            0  "
      ]
     },
     "execution_count": 104,
     "metadata": {},
     "output_type": "execute_result"
    }
   ],
   "source": [
    "train['model2_pred'] = model2.predict(X_train)\n",
    "train.head()"
   ]
  },
  {
   "cell_type": "code",
   "execution_count": 105,
   "metadata": {},
   "outputs": [
    {
     "data": {
      "text/html": [
       "<div>\n",
       "<style scoped>\n",
       "    .dataframe tbody tr th:only-of-type {\n",
       "        vertical-align: middle;\n",
       "    }\n",
       "\n",
       "    .dataframe tbody tr th {\n",
       "        vertical-align: top;\n",
       "    }\n",
       "\n",
       "    .dataframe thead th {\n",
       "        text-align: right;\n",
       "    }\n",
       "</style>\n",
       "<table border=\"1\" class=\"dataframe\">\n",
       "  <thead>\n",
       "    <tr style=\"text-align: right;\">\n",
       "      <th></th>\n",
       "      <th>survived</th>\n",
       "      <th>pclass</th>\n",
       "      <th>sibsp</th>\n",
       "      <th>parch</th>\n",
       "      <th>fare</th>\n",
       "      <th>alone</th>\n",
       "      <th>sex_male</th>\n",
       "      <th>embark_town_Queenstown</th>\n",
       "      <th>embark_town_Southampton</th>\n",
       "      <th>model1_pred</th>\n",
       "      <th>model2_pred</th>\n",
       "    </tr>\n",
       "  </thead>\n",
       "  <tbody>\n",
       "    <tr>\n",
       "      <th>569</th>\n",
       "      <td>1</td>\n",
       "      <td>3</td>\n",
       "      <td>0</td>\n",
       "      <td>0</td>\n",
       "      <td>7.8542</td>\n",
       "      <td>1</td>\n",
       "      <td>1</td>\n",
       "      <td>0</td>\n",
       "      <td>1</td>\n",
       "      <td>0</td>\n",
       "      <td>0</td>\n",
       "    </tr>\n",
       "    <tr>\n",
       "      <th>532</th>\n",
       "      <td>0</td>\n",
       "      <td>3</td>\n",
       "      <td>1</td>\n",
       "      <td>1</td>\n",
       "      <td>7.2292</td>\n",
       "      <td>0</td>\n",
       "      <td>1</td>\n",
       "      <td>0</td>\n",
       "      <td>0</td>\n",
       "      <td>0</td>\n",
       "      <td>0</td>\n",
       "    </tr>\n",
       "    <tr>\n",
       "      <th>223</th>\n",
       "      <td>0</td>\n",
       "      <td>3</td>\n",
       "      <td>0</td>\n",
       "      <td>0</td>\n",
       "      <td>7.8958</td>\n",
       "      <td>1</td>\n",
       "      <td>1</td>\n",
       "      <td>0</td>\n",
       "      <td>1</td>\n",
       "      <td>0</td>\n",
       "      <td>0</td>\n",
       "    </tr>\n",
       "    <tr>\n",
       "      <th>35</th>\n",
       "      <td>0</td>\n",
       "      <td>1</td>\n",
       "      <td>1</td>\n",
       "      <td>0</td>\n",
       "      <td>52.0000</td>\n",
       "      <td>0</td>\n",
       "      <td>1</td>\n",
       "      <td>0</td>\n",
       "      <td>1</td>\n",
       "      <td>1</td>\n",
       "      <td>0</td>\n",
       "    </tr>\n",
       "    <tr>\n",
       "      <th>93</th>\n",
       "      <td>0</td>\n",
       "      <td>3</td>\n",
       "      <td>1</td>\n",
       "      <td>2</td>\n",
       "      <td>20.5750</td>\n",
       "      <td>0</td>\n",
       "      <td>1</td>\n",
       "      <td>0</td>\n",
       "      <td>1</td>\n",
       "      <td>0</td>\n",
       "      <td>0</td>\n",
       "    </tr>\n",
       "  </tbody>\n",
       "</table>\n",
       "</div>"
      ],
      "text/plain": [
       "     survived  pclass  sibsp  parch     fare  alone  sex_male  \\\n",
       "569         1       3      0      0   7.8542      1         1   \n",
       "532         0       3      1      1   7.2292      0         1   \n",
       "223         0       3      0      0   7.8958      1         1   \n",
       "35          0       1      1      0  52.0000      0         1   \n",
       "93          0       3      1      2  20.5750      0         1   \n",
       "\n",
       "     embark_town_Queenstown  embark_town_Southampton  model1_pred  model2_pred  \n",
       "569                       0                        1            0            0  \n",
       "532                       0                        0            0            0  \n",
       "223                       0                        1            0            0  \n",
       "35                        0                        1            1            0  \n",
       "93                        0                        1            0            0  "
      ]
     },
     "execution_count": 105,
     "metadata": {},
     "output_type": "execute_result"
    }
   ],
   "source": [
    "validate['model2_pred'] = model2.predict(X_validate)\n",
    "validate.head()"
   ]
  },
  {
   "cell_type": "code",
   "execution_count": 106,
   "metadata": {},
   "outputs": [
    {
     "name": "stdout",
     "output_type": "stream",
     "text": [
      "              precision    recall  f1-score   support\n",
      "\n",
      "           0       0.76      0.99      0.86       307\n",
      "           1       0.97      0.50      0.66       191\n",
      "\n",
      "    accuracy                           0.80       498\n",
      "   macro avg       0.86      0.74      0.76       498\n",
      "weighted avg       0.84      0.80      0.78       498\n",
      "\n"
     ]
    }
   ],
   "source": [
    "print(classification_report(train.survived, train.model2_pred))"
   ]
  },
  {
   "cell_type": "code",
   "execution_count": 107,
   "metadata": {},
   "outputs": [
    {
     "name": "stdout",
     "output_type": "stream",
     "text": [
      "Train model is 80.12%\n",
      "Validate model is 76.17%\n"
     ]
    }
   ],
   "source": [
    "print(f'Train model is {model2.score(X_train, y_train):.2%}')\n",
    "print(f'Validate model is {model2.score(X_validate, y_validate):.2%}')"
   ]
  },
  {
   "cell_type": "code",
   "execution_count": 108,
   "metadata": {},
   "outputs": [
    {
     "data": {
      "text/plain": [
       "array([[304,   3],\n",
       "       [ 96,  95]])"
      ]
     },
     "execution_count": 108,
     "metadata": {},
     "output_type": "execute_result"
    }
   ],
   "source": [
    "confusion_matrix(train.survived, train.model2_pred)"
   ]
  },
  {
   "cell_type": "code",
   "execution_count": 109,
   "metadata": {},
   "outputs": [
    {
     "name": "stdout",
     "output_type": "stream",
     "text": [
      "              precision    recall  f1-score   support\n",
      "\n",
      "           0       0.73      0.97      0.83       132\n",
      "           1       0.90      0.43      0.58        82\n",
      "\n",
      "    accuracy                           0.76       214\n",
      "   macro avg       0.81      0.70      0.71       214\n",
      "weighted avg       0.80      0.76      0.74       214\n",
      "\n"
     ]
    }
   ],
   "source": [
    "print(classification_report(validate.survived, validate.model2_pred))"
   ]
  },
  {
   "cell_type": "code",
   "execution_count": 110,
   "metadata": {},
   "outputs": [
    {
     "data": {
      "text/plain": [
       "array([[128,   4],\n",
       "       [ 47,  35]])"
      ]
     },
     "execution_count": 110,
     "metadata": {},
     "output_type": "execute_result"
    }
   ],
   "source": [
    "val_matrix2 = confusion_matrix(validate.survived, validate.model2_pred)\n",
    "val_matrix2"
   ]
  },
  {
   "cell_type": "code",
   "execution_count": 111,
   "metadata": {},
   "outputs": [
    {
     "name": "stdout",
     "output_type": "stream",
     "text": [
      "Validate model accuracy is 76.17%\n"
     ]
    }
   ],
   "source": [
    "print(f'Validate model accuracy is {model2.score(X_validate, y_validate):.2%}')"
   ]
  },
  {
   "cell_type": "code",
   "execution_count": 112,
   "metadata": {},
   "outputs": [
    {
     "name": "stdout",
     "output_type": "stream",
     "text": [
      "True positive rate is 42.68%\n",
      "False positive rate is 3.03%\n",
      "True negative rate is 96.97%\n",
      "False negative rate is 96.97%\n"
     ]
    }
   ],
   "source": [
    "tpr2 = val_matrix2[1,1] / (val_matrix2[1,1] + val_matrix2[1,0])\n",
    "fpr2 = val_matrix2[0,1] / (val_matrix2[0,1] + val_matrix2[0,0])\n",
    "tnr2 = val_matrix2[0,0] / (val_matrix2[0,0] + val_matrix2[0,1])\n",
    "fnr2 = val_matrix2[1,0] / (val_matrix2[1,1] + val_matrix2[1,0])\n",
    "print(f'True positive rate is {tpr2:.2%}')\n",
    "print(f'False positive rate is {fpr2:.2%}')\n",
    "print(f'True negative rate is {tnr2:.2%}')\n",
    "print(f'False negative rate is {tnr2:.2%}')"
   ]
  },
  {
   "cell_type": "markdown",
   "metadata": {},
   "source": [
    "### 7. Which model performs better on your out-of-sample data?"
   ]
  },
  {
   "cell_type": "code",
   "execution_count": 113,
   "metadata": {},
   "outputs": [
    {
     "name": "stdout",
     "output_type": "stream",
     "text": [
      "Model accuracies:\n",
      "-_-_-_-_-_-_-_-_-_-_-_-_-_-\n",
      " \n",
      "Train model1 is 81.33%\n",
      "Validate model1 is 74.30%\n",
      "---------------------------\n",
      "Train model2 is 80.12%\n",
      "Validate model2 is 76.17%\n"
     ]
    }
   ],
   "source": [
    "print('Model accuracies:')\n",
    "print('-_-_-_-_-_-_-_-_-_-_-_-_-_-')\n",
    "print(' ')\n",
    "print(f'Train model1 is {model1.score(X_train, y_train):.2%}')\n",
    "print(f'Validate model1 is {model1.score(X_validate, y_validate):.2%}')\n",
    "print('---------------------------')\n",
    "print(f'Train model2 is {model2.score(X_train, y_train):.2%}')\n",
    "print(f'Validate model2 is {model2.score(X_validate, y_validate):.2%}')"
   ]
  },
  {
   "cell_type": "code",
   "execution_count": 114,
   "metadata": {},
   "outputs": [
    {
     "name": "stdout",
     "output_type": "stream",
     "text": [
      "Validate model metrics:\n",
      "-_-_-_-_-_-_-_-_-_-_-_-_-_-\n",
      " \n",
      "True positive rate for model1 is 56.10%\n",
      "False positive rate for model1 is  14.39%\n",
      "True negative rate for model1 is 85.61%\n",
      "False negative rate for model 1 is 43.90%\n",
      "---------------------------\n",
      "True positive rate for model2 is 42.68%\n",
      "False positive rate for model2 is 3.03%\n",
      "True negative rate for model2 is 96.97%\n",
      "False negative rate for model2 is 96.97%\n"
     ]
    }
   ],
   "source": [
    "print('Validate model metrics:')\n",
    "print('-_-_-_-_-_-_-_-_-_-_-_-_-_-')\n",
    "print(' ')\n",
    "\n",
    "print(f'True positive rate for model1 is {tpr:.2%}')\n",
    "print(f'False positive rate for model1 is  {fpr:.2%}')\n",
    "print(f'True negative rate for model1 is {tnr:.2%}')\n",
    "print(f'False negative rate for model 1 is {fnr:.2%}')\n",
    "print('---------------------------')\n",
    "print(f'True positive rate for model2 is {tpr2:.2%}')\n",
    "print(f'False positive rate for model2 is {fpr2:.2%}')\n",
    "print(f'True negative rate for model2 is {tnr2:.2%}')\n",
    "print(f'False negative rate for model2 is {tnr2:.2%}')"
   ]
  },
  {
   "cell_type": "markdown",
   "metadata": {},
   "source": [
    "#### Model 2 performs better on out of sample data"
   ]
  },
  {
   "cell_type": "markdown",
   "metadata": {},
   "source": [
    "### 6. Which model performs better on your in-sample data?"
   ]
  },
  {
   "cell_type": "code",
   "execution_count": 115,
   "metadata": {},
   "outputs": [],
   "source": [
    "t_matrix1 = confusion_matrix(train.survived, train.model1_pred)"
   ]
  },
  {
   "cell_type": "code",
   "execution_count": 116,
   "metadata": {},
   "outputs": [],
   "source": [
    "t_tpr = t_matrix1[1,1] / (t_matrix1[1,1] + t_matrix1[1,0])\n",
    "t_fpr = t_matrix1[0,1] / (t_matrix1[0,1] + t_matrix1[0,0])\n",
    "t_tnr = t_matrix1[0,0] / (t_matrix1[0,0] + t_matrix1[0,1])\n",
    "t_fnr = t_matrix1[1,0] / (t_matrix1[1,1] + t_matrix1[1,0])"
   ]
  },
  {
   "cell_type": "code",
   "execution_count": 117,
   "metadata": {},
   "outputs": [],
   "source": [
    "t_matrix2 = confusion_matrix(train.survived, train.model2_pred)"
   ]
  },
  {
   "cell_type": "code",
   "execution_count": 118,
   "metadata": {},
   "outputs": [],
   "source": [
    "t_tpr2 = t_matrix2[1,1] / (t_matrix2[1,1] + t_matrix2[1,0])\n",
    "t_fpr2 = t_matrix2[0,1] / (t_matrix2[0,1] + t_matrix2[0,0])\n",
    "t_tnr2 = t_matrix2[0,0] / (t_matrix2[0,0] + t_matrix2[0,1])\n",
    "t_fnr2 = t_matrix2[1,0] / (t_matrix2[1,1] + t_matrix2[1,0])"
   ]
  },
  {
   "cell_type": "code",
   "execution_count": 119,
   "metadata": {},
   "outputs": [
    {
     "name": "stdout",
     "output_type": "stream",
     "text": [
      "Train model metrics:\n",
      "-_-_-_-_-_-_-_-_-_-_-_-_-_-\n",
      " \n",
      "True positive rate for model1 is 66.49%\n",
      "False positive rate for model1 is  9.45%\n",
      "True negative rate for model1 is 90.55%\n",
      "False negative rate for model 1 is 33.51%\n",
      "---------------------------\n",
      "True positive rate for model2 is 49.74%\n",
      "False positive rate for model2 is 0.98%\n",
      "True negative rate for model2 is 99.02%\n",
      "False negative rate for model2 is 99.02%\n"
     ]
    }
   ],
   "source": [
    "print('Train model metrics:')\n",
    "print('-_-_-_-_-_-_-_-_-_-_-_-_-_-')\n",
    "print(' ')\n",
    "print(f'True positive rate for model1 is {t_tpr:.2%}')\n",
    "print(f'False positive rate for model1 is  {t_fpr:.2%}')\n",
    "print(f'True negative rate for model1 is {t_tnr:.2%}')\n",
    "print(f'False negative rate for model 1 is {t_fnr:.2%}')\n",
    "print('---------------------------')\n",
    "print(f'True positive rate for model2 is {t_tpr2:.2%}')\n",
    "print(f'False positive rate for model2 is {t_fpr2:.2%}')\n",
    "print(f'True negative rate for model2 is {t_tnr2:.2%}')\n",
    "print(f'False negative rate for model2 is {t_tnr2:.2%}')"
   ]
  },
  {
   "cell_type": "markdown",
   "metadata": {},
   "source": [
    "#### Model 1 performs better on in sample data "
   ]
  },
  {
   "cell_type": "code",
   "execution_count": null,
   "metadata": {},
   "outputs": [],
   "source": [
    "X_train, y_train = train[X_cols], train[y_col]\n",
    "X_validate, y_validate = validate[X_cols], validate[y_col]\n",
    "X_test, y_test = test[X_cols], test[y_col]"
   ]
  },
  {
   "cell_type": "code",
   "execution_count": 12,
   "metadata": {},
   "outputs": [],
   "source": [
    "def run_metrics(model, data_set):\n",
    "    \"\"\"\n",
    "    This function takes in a model and ouputs metrics. \n",
    "    model = name of class model\n",
    "    data_set = train, validate, test (AS A STRING)\n",
    "    Will output the Precision Score, the classification report, and the confusion matrix\n",
    "    It is advisable to print the name of the model you're working with before hand for clarity\n",
    "    i.e. print('Metrics for Model 1 with Train data\\n')\n",
    "    \"\"\"\n",
    "    if data_set == 'train':\n",
    "        X = X_train\n",
    "        y = y_train\n",
    "        df = train\n",
    "    if data_set == 'validate':\n",
    "        X = X_validate\n",
    "        y = y_validate\n",
    "        df = validate\n",
    "    if data_set == 'test':\n",
    "        X = X_test\n",
    "        y = y_test\n",
    "        df = test\n",
    "    score = model.score(X, y)\n",
    "    matrix = confusion_matrix(y, model.predict(X))\n",
    "    tpr = matrix[1,1] / (matrix[1,1] + matrix[1,0])\n",
    "    fpr = matrix[0,1] / (matrix[0,1] + matrix[0,0])\n",
    "    tnr = matrix[0,0] / (matrix[0,0] + matrix[0,1])\n",
    "    fnr = matrix[1,0] / (matrix[1,1] + matrix[1,0])\n",
    "    prc = matrix[1,1] / (matrix[1,1] + matrix[0,1])\n",
    "    \n",
    "    print(f'{data_set} data set accuracy score: {score:.2%}')\n",
    "    print(f'{data_set} data set precision score {prc:.2%}')\n",
    "    print(f'{data_set} data set recall score: {tpr:.2%}\\n')\n",
    "    class_report = classification_report(y, model.predict(X), zero_division=True)\n",
    "    print('-------------------------------')\n",
    "    print(f'classification report')\n",
    "    print(class_report)\n",
    "    print ('-------------------------------\\n')\n",
    "    print('confusion matrix')\n",
    "    print(f'{matrix}\\n')\n",
    "    print(f'{data_set} data set model metrics')\n",
    "    print('---------------------------------')\n",
    "    print(f'True positive rate for the model is {tpr:.2%}')\n",
    "    print(f'False positive rate for the model is  {fpr:.2%}')\n",
    "    print(f'True negative rate for the model is {tnr:.2%}')\n",
    "    print(f'False negative rate for the model is {fnr:.2%}\\n')"
   ]
  },
  {
   "cell_type": "markdown",
   "metadata": {},
   "source": [
    "# Random Forest Exercises\n",
    "Continue working in your model file with titanic data to do the following:"
   ]
  },
  {
   "cell_type": "markdown",
   "metadata": {},
   "source": [
    "### 1. Fit the Random Forest classifier to your training sample and transform (i.e. make predictions on the training sample) setting the random_state accordingly and setting min_samples_leaf = 1 and max_depth = 10"
   ]
  },
  {
   "cell_type": "code",
   "execution_count": 122,
   "metadata": {},
   "outputs": [
    {
     "data": {
      "text/plain": [
       "RandomForestClassifier(max_depth=10, random_state=123)"
      ]
     },
     "execution_count": 122,
     "metadata": {},
     "output_type": "execute_result"
    }
   ],
   "source": [
    "rf = RandomForestClassifier(random_state = 123, min_samples_leaf = 1, max_depth = 10)\n",
    "rf"
   ]
  },
  {
   "cell_type": "code",
   "execution_count": 123,
   "metadata": {},
   "outputs": [
    {
     "data": {
      "text/plain": [
       "RandomForestClassifier(max_depth=10, random_state=123)"
      ]
     },
     "execution_count": 123,
     "metadata": {},
     "output_type": "execute_result"
    }
   ],
   "source": [
    "rf.fit(X_train, y_train)"
   ]
  },
  {
   "cell_type": "code",
   "execution_count": 124,
   "metadata": {},
   "outputs": [
    {
     "name": "stdout",
     "output_type": "stream",
     "text": [
      "[0.32047233 0.56133392 0.11819375]\n"
     ]
    }
   ],
   "source": [
    "print(rf.feature_importances_)"
   ]
  },
  {
   "cell_type": "code",
   "execution_count": 125,
   "metadata": {},
   "outputs": [
    {
     "name": "stdout",
     "output_type": "stream",
     "text": [
      "Baseline accuracy is 61.65%\n"
     ]
    }
   ],
   "source": [
    "train['baseline'] = 0\n",
    "baseline_accuracy = (train.baseline == train.survived).mean()\n",
    "print(f'Baseline accuracy is {baseline_accuracy:.2%}')"
   ]
  },
  {
   "cell_type": "code",
   "execution_count": 126,
   "metadata": {},
   "outputs": [
    {
     "name": "stdout",
     "output_type": "stream",
     "text": [
      "train data set accuracy score: 81.33%\n",
      "train data set precision score 81.41%\n",
      "train data set recall score: 66.49%\n",
      "-------------------------------\n",
      "classification report\n",
      "              precision    recall  f1-score   support\n",
      "\n",
      "           0       0.81      0.91      0.86       307\n",
      "           1       0.81      0.66      0.73       191\n",
      "\n",
      "    accuracy                           0.81       498\n",
      "   macro avg       0.81      0.79      0.79       498\n",
      "weighted avg       0.81      0.81      0.81       498\n",
      "\n",
      "-------------------------------\n",
      "\n",
      "confusion matrix\n",
      "[[278  29]\n",
      " [ 64 127]]\n",
      " \n",
      "train data set model metrics\n",
      "---------------------------------\n",
      "True positive rate for the model is 66.49%\n",
      "False positive rate for the model is  9.45%\n",
      "True negative rate for the model is 90.55%\n",
      "False negative rate for the model is 33.51%\n"
     ]
    }
   ],
   "source": [
    "run_metrics(rf, 'train')"
   ]
  },
  {
   "cell_type": "code",
   "execution_count": 127,
   "metadata": {},
   "outputs": [
    {
     "name": "stdout",
     "output_type": "stream",
     "text": [
      "validate data set accuracy score: 74.30%\n",
      "validate data set precision score 70.77%\n",
      "validate data set recall score: 56.10%\n",
      "-------------------------------\n",
      "classification report\n",
      "              precision    recall  f1-score   support\n",
      "\n",
      "           0       0.76      0.86      0.80       132\n",
      "           1       0.71      0.56      0.63        82\n",
      "\n",
      "    accuracy                           0.74       214\n",
      "   macro avg       0.73      0.71      0.72       214\n",
      "weighted avg       0.74      0.74      0.74       214\n",
      "\n",
      "-------------------------------\n",
      "\n",
      "confusion matrix\n",
      "[[113  19]\n",
      " [ 36  46]]\n",
      " \n",
      "validate data set model metrics\n",
      "---------------------------------\n",
      "True positive rate for the model is 56.10%\n",
      "False positive rate for the model is  14.39%\n",
      "True negative rate for the model is 85.61%\n",
      "False negative rate for the model is 43.90%\n"
     ]
    }
   ],
   "source": [
    "run_metrics(rf, 'validate')"
   ]
  },
  {
   "cell_type": "markdown",
   "metadata": {},
   "source": [
    "### 4. Run through steps increasing your min_samples_leaf and decreasing your max_depth."
   ]
  },
  {
   "cell_type": "code",
   "execution_count": 128,
   "metadata": {},
   "outputs": [
    {
     "data": {
      "text/plain": [
       "pclass      0.363572\n",
       "sex_male    0.497045\n",
       "alone       0.139383\n",
       "dtype: float64"
      ]
     },
     "execution_count": 128,
     "metadata": {},
     "output_type": "execute_result"
    }
   ],
   "source": [
    "rf2 = RandomForestClassifier(random_state = 123, min_samples_leaf = 20, max_depth = 4)\n",
    "rf2.fit(X_train, y_train)\n",
    "pd.Series(dict(zip(X_train.columns, rf2.feature_importances_)))"
   ]
  },
  {
   "cell_type": "code",
   "execution_count": 129,
   "metadata": {},
   "outputs": [
    {
     "name": "stdout",
     "output_type": "stream",
     "text": [
      "train data set accuracy score: 81.33%\n",
      "train data set precision score 81.41%\n",
      "train data set recall score: 66.49%\n",
      "-------------------------------\n",
      "classification report\n",
      "              precision    recall  f1-score   support\n",
      "\n",
      "           0       0.81      0.91      0.86       307\n",
      "           1       0.81      0.66      0.73       191\n",
      "\n",
      "    accuracy                           0.81       498\n",
      "   macro avg       0.81      0.79      0.79       498\n",
      "weighted avg       0.81      0.81      0.81       498\n",
      "\n",
      "-------------------------------\n",
      "\n",
      "confusion matrix\n",
      "[[278  29]\n",
      " [ 64 127]]\n",
      " \n",
      "train data set model metrics\n",
      "---------------------------------\n",
      "True positive rate for the model is 66.49%\n",
      "False positive rate for the model is  9.45%\n",
      "True negative rate for the model is 90.55%\n",
      "False negative rate for the model is 33.51%\n"
     ]
    }
   ],
   "source": [
    "run_metrics(rf2, 'train')"
   ]
  },
  {
   "cell_type": "code",
   "execution_count": 130,
   "metadata": {},
   "outputs": [
    {
     "name": "stdout",
     "output_type": "stream",
     "text": [
      "validate data set accuracy score: 74.30%\n",
      "validate data set precision score 70.77%\n",
      "validate data set recall score: 56.10%\n",
      "-------------------------------\n",
      "classification report\n",
      "              precision    recall  f1-score   support\n",
      "\n",
      "           0       0.76      0.86      0.80       132\n",
      "           1       0.71      0.56      0.63        82\n",
      "\n",
      "    accuracy                           0.74       214\n",
      "   macro avg       0.73      0.71      0.72       214\n",
      "weighted avg       0.74      0.74      0.74       214\n",
      "\n",
      "-------------------------------\n",
      "\n",
      "confusion matrix\n",
      "[[113  19]\n",
      " [ 36  46]]\n",
      " \n",
      "validate data set model metrics\n",
      "---------------------------------\n",
      "True positive rate for the model is 56.10%\n",
      "False positive rate for the model is  14.39%\n",
      "True negative rate for the model is 85.61%\n",
      "False negative rate for the model is 43.90%\n"
     ]
    }
   ],
   "source": [
    "run_metrics(rf2, 'validate')"
   ]
  },
  {
   "cell_type": "code",
   "execution_count": 131,
   "metadata": {},
   "outputs": [
    {
     "name": "stdout",
     "output_type": "stream",
     "text": [
      "test data set accuracy score: 80.45%\n",
      "test data set precision score 80.36%\n",
      "test data set recall score: 65.22%\n",
      "-------------------------------\n",
      "classification report\n",
      "              precision    recall  f1-score   support\n",
      "\n",
      "           0       0.80      0.90      0.85       110\n",
      "           1       0.80      0.65      0.72        69\n",
      "\n",
      "    accuracy                           0.80       179\n",
      "   macro avg       0.80      0.78      0.78       179\n",
      "weighted avg       0.80      0.80      0.80       179\n",
      "\n",
      "-------------------------------\n",
      "\n",
      "confusion matrix\n",
      "[[99 11]\n",
      " [24 45]]\n",
      " \n",
      "test data set model metrics\n",
      "---------------------------------\n",
      "True positive rate for the model is 65.22%\n",
      "False positive rate for the model is  10.00%\n",
      "True negative rate for the model is 90.00%\n",
      "False negative rate for the model is 34.78%\n"
     ]
    }
   ],
   "source": [
    "run_metrics(rf2, 'test')"
   ]
  },
  {
   "cell_type": "markdown",
   "metadata": {},
   "source": [
    "### 5. What are the differences in the evaluation metrics? Which perfomrs better on your in-sample data? Why?"
   ]
  },
  {
   "cell_type": "markdown",
   "metadata": {},
   "source": [
    "False positives and negatives are higher in my first random tree validate sample. My first model performs better on my in sample data than my second in terms of positive values, but my second is a big more agressive on negative values"
   ]
  },
  {
   "cell_type": "code",
   "execution_count": null,
   "metadata": {},
   "outputs": [],
   "source": [
    "run_metrics(rf2, 'test')"
   ]
  },
  {
   "cell_type": "markdown",
   "metadata": {},
   "source": [
    "# K Nearest Neighbors exercise"
   ]
  },
  {
   "cell_type": "markdown",
   "metadata": {},
   "source": [
    "### 1. Fit a K-Nearest Neighbors classifier to your training sample and transform (i.e. make predictions on the training sample)"
   ]
  },
  {
   "cell_type": "code",
   "execution_count": 80,
   "metadata": {},
   "outputs": [
    {
     "name": "stdout",
     "output_type": "stream",
     "text": [
      " 1: Test accuracy = 78.21%, Validate accuracy = 73.36%\n",
      " 2: Test accuracy = 77.65%, Validate accuracy = 76.17%\n",
      " 3: Test accuracy = 73.18%, Validate accuracy = 68.69%\n",
      " 4: Test accuracy = 77.65%, Validate accuracy = 76.17%\n",
      " 5: Test accuracy = 77.65%, Validate accuracy = 76.17%\n",
      " 6: Test accuracy = 77.65%, Validate accuracy = 76.17%\n",
      " 7: Test accuracy = 77.65%, Validate accuracy = 76.17%\n",
      " 8: Test accuracy = 77.65%, Validate accuracy = 76.17%\n",
      " 9: Test accuracy = 77.65%, Validate accuracy = 76.17%\n",
      "10: Test accuracy = 77.65%, Validate accuracy = 76.17%\n",
      "11: Test accuracy = 77.65%, Validate accuracy = 76.17%\n",
      "12: Test accuracy = 77.65%, Validate accuracy = 76.17%\n"
     ]
    }
   ],
   "source": [
    "for k in range(1, 13):\n",
    "    knn = KNeighborsClassifier(n_neighbors=k)\n",
    "    knn.fit(X_train, y_train)\n",
    "    taccuracy = knn.score(X_test, y_test)\n",
    "    vaccuracy = knn.score(X_validate, y_validate)\n",
    "    print(f'{k:2d}: Test accuracy = {taccuracy:.2%}, Validate accuracy = {vaccuracy:.2%}')"
   ]
  },
  {
   "cell_type": "code",
   "execution_count": 72,
   "metadata": {},
   "outputs": [
    {
     "data": {
      "text/plain": [
       "KNeighborsClassifier(n_neighbors=1)"
      ]
     },
     "execution_count": 72,
     "metadata": {},
     "output_type": "execute_result"
    }
   ],
   "source": [
    "knn = KNeighborsClassifier(n_neighbors=1)\n",
    "knn.fit(X_train, y_train)"
   ]
  },
  {
   "cell_type": "code",
   "execution_count": 73,
   "metadata": {},
   "outputs": [
    {
     "name": "stdout",
     "output_type": "stream",
     "text": [
      "train data set accuracy score: 78.31%\n",
      "train data set precision score 79.43%\n",
      "train data set recall score: 58.64%\n",
      "-------------------------------\n",
      "classification report\n",
      "              precision    recall  f1-score   support\n",
      "\n",
      "           0       0.78      0.91      0.84       307\n",
      "           1       0.79      0.59      0.67       191\n",
      "\n",
      "    accuracy                           0.78       498\n",
      "   macro avg       0.79      0.75      0.76       498\n",
      "weighted avg       0.78      0.78      0.77       498\n",
      "\n",
      "-------------------------------\n",
      "\n",
      "confusion matrix\n",
      "[[278  29]\n",
      " [ 79 112]]\n",
      " \n",
      "train data set model metrics\n",
      "---------------------------------\n",
      "True positive rate for the model is 58.64%\n",
      "False positive rate for the model is  9.45%\n",
      "True negative rate for the model is 90.55%\n",
      "False negative rate for the model is 41.36%\n"
     ]
    }
   ],
   "source": [
    "run_metrics(knn, 'train')"
   ]
  },
  {
   "cell_type": "code",
   "execution_count": 75,
   "metadata": {},
   "outputs": [
    {
     "name": "stdout",
     "output_type": "stream",
     "text": [
      "validate data set accuracy score: 73.36%\n",
      "validate data set precision score 69.23%\n",
      "validate data set recall score: 54.88%\n",
      "-------------------------------\n",
      "classification report\n",
      "              precision    recall  f1-score   support\n",
      "\n",
      "           0       0.75      0.85      0.80       132\n",
      "           1       0.69      0.55      0.61        82\n",
      "\n",
      "    accuracy                           0.73       214\n",
      "   macro avg       0.72      0.70      0.70       214\n",
      "weighted avg       0.73      0.73      0.73       214\n",
      "\n",
      "-------------------------------\n",
      "\n",
      "confusion matrix\n",
      "[[112  20]\n",
      " [ 37  45]]\n",
      " \n",
      "validate data set model metrics\n",
      "---------------------------------\n",
      "True positive rate for the model is 54.88%\n",
      "False positive rate for the model is  15.15%\n",
      "True negative rate for the model is 84.85%\n",
      "False negative rate for the model is 45.12%\n"
     ]
    }
   ],
   "source": [
    "run_metrics(knn, 'validate')"
   ]
  },
  {
   "cell_type": "code",
   "execution_count": 74,
   "metadata": {},
   "outputs": [
    {
     "name": "stdout",
     "output_type": "stream",
     "text": [
      "train data set accuracy score: 80.12%\n",
      "train data set precision score 96.94%\n",
      "train data set recall score: 49.74%\n",
      "-------------------------------\n",
      "classification report\n",
      "              precision    recall  f1-score   support\n",
      "\n",
      "           0       0.76      0.99      0.86       307\n",
      "           1       0.97      0.50      0.66       191\n",
      "\n",
      "    accuracy                           0.80       498\n",
      "   macro avg       0.86      0.74      0.76       498\n",
      "weighted avg       0.84      0.80      0.78       498\n",
      "\n",
      "-------------------------------\n",
      "\n",
      "confusion matrix\n",
      "[[304   3]\n",
      " [ 96  95]]\n",
      " \n",
      "train data set model metrics\n",
      "---------------------------------\n",
      "True positive rate for the model is 49.74%\n",
      "False positive rate for the model is  0.98%\n",
      "True negative rate for the model is 99.02%\n",
      "False negative rate for the model is 50.26%\n"
     ]
    }
   ],
   "source": [
    "knn10 = KNeighborsClassifier(n_neighbors=10)\n",
    "knn10.fit(X_train, y_train)\n",
    "run_metrics(knn10, 'train')"
   ]
  },
  {
   "cell_type": "code",
   "execution_count": 77,
   "metadata": {},
   "outputs": [
    {
     "name": "stdout",
     "output_type": "stream",
     "text": [
      "validate data set accuracy score: 76.17%\n",
      "validate data set precision score 89.74%\n",
      "validate data set recall score: 42.68%\n",
      "-------------------------------\n",
      "classification report\n",
      "              precision    recall  f1-score   support\n",
      "\n",
      "           0       0.73      0.97      0.83       132\n",
      "           1       0.90      0.43      0.58        82\n",
      "\n",
      "    accuracy                           0.76       214\n",
      "   macro avg       0.81      0.70      0.71       214\n",
      "weighted avg       0.80      0.76      0.74       214\n",
      "\n",
      "-------------------------------\n",
      "\n",
      "confusion matrix\n",
      "[[128   4]\n",
      " [ 47  35]]\n",
      " \n",
      "validate data set model metrics\n",
      "---------------------------------\n",
      "True positive rate for the model is 42.68%\n",
      "False positive rate for the model is  3.03%\n",
      "True negative rate for the model is 96.97%\n",
      "False negative rate for the model is 57.32%\n"
     ]
    }
   ],
   "source": [
    "run_metrics(knn10, 'validate')"
   ]
  },
  {
   "cell_type": "code",
   "execution_count": 78,
   "metadata": {},
   "outputs": [
    {
     "name": "stdout",
     "output_type": "stream",
     "text": [
      "train data set accuracy score: 80.12%\n",
      "train data set precision score 96.94%\n",
      "train data set recall score: 49.74%\n",
      "-------------------------------\n",
      "classification report\n",
      "              precision    recall  f1-score   support\n",
      "\n",
      "           0       0.76      0.99      0.86       307\n",
      "           1       0.97      0.50      0.66       191\n",
      "\n",
      "    accuracy                           0.80       498\n",
      "   macro avg       0.86      0.74      0.76       498\n",
      "weighted avg       0.84      0.80      0.78       498\n",
      "\n",
      "-------------------------------\n",
      "\n",
      "confusion matrix\n",
      "[[304   3]\n",
      " [ 96  95]]\n",
      " \n",
      "train data set model metrics\n",
      "---------------------------------\n",
      "True positive rate for the model is 49.74%\n",
      "False positive rate for the model is  0.98%\n",
      "True negative rate for the model is 99.02%\n",
      "False negative rate for the model is 50.26%\n"
     ]
    }
   ],
   "source": [
    "knn20 = KNeighborsClassifier(n_neighbors=20)\n",
    "knn20.fit(X_train, y_train)\n",
    "run_metrics(knn20, 'train')"
   ]
  },
  {
   "cell_type": "code",
   "execution_count": 140,
   "metadata": {},
   "outputs": [
    {
     "name": "stdout",
     "output_type": "stream",
     "text": [
      "validate data set accuracy score: 76.17%\n",
      "validate data set precision score 89.74%\n",
      "validate data set recall score: 42.68%\n",
      "-------------------------------\n",
      "classification report\n",
      "              precision    recall  f1-score   support\n",
      "\n",
      "           0       0.73      0.97      0.83       132\n",
      "           1       0.90      0.43      0.58        82\n",
      "\n",
      "    accuracy                           0.76       214\n",
      "   macro avg       0.81      0.70      0.71       214\n",
      "weighted avg       0.80      0.76      0.74       214\n",
      "\n",
      "-------------------------------\n",
      "\n",
      "confusion matrix\n",
      "[[128   4]\n",
      " [ 47  35]]\n",
      " \n",
      "validate data set model metrics\n",
      "---------------------------------\n",
      "True positive rate for the model is 42.68%\n",
      "False positive rate for the model is  3.03%\n",
      "True negative rate for the model is 96.97%\n",
      "False negative rate for the model is 57.32%\n"
     ]
    }
   ],
   "source": [
    "run_metrics(knn20, 'validate')"
   ]
  },
  {
   "cell_type": "code",
   "execution_count": 149,
   "metadata": {},
   "outputs": [
    {
     "name": "stdout",
     "output_type": "stream",
     "text": [
      " 1: Test accuracy = 78.21%, Validate accuracy = 73.36%\n",
      "\n",
      "train data set accuracy score: 78.31%\n",
      "train data set precision score 79.43%\n",
      "train data set recall score: 58.64%\n",
      "\n",
      "-------------------------------\n",
      "classification report\n",
      "              precision    recall  f1-score   support\n",
      "\n",
      "           0       0.78      0.91      0.84       307\n",
      "           1       0.79      0.59      0.67       191\n",
      "\n",
      "    accuracy                           0.78       498\n",
      "   macro avg       0.79      0.75      0.76       498\n",
      "weighted avg       0.78      0.78      0.77       498\n",
      "\n",
      "-------------------------------\n",
      "\n",
      "confusion matrix\n",
      "[[278  29]\n",
      " [ 79 112]]\n",
      "\n",
      "train data set model metrics\n",
      "---------------------------------\n",
      "True positive rate for the model is 58.64%\n",
      "False positive rate for the model is  9.45%\n",
      "True negative rate for the model is 90.55%\n",
      "False negative rate for the model is 41.36%\n",
      "\n",
      "validate data set accuracy score: 73.36%\n",
      "validate data set precision score 69.23%\n",
      "validate data set recall score: 54.88%\n",
      "\n",
      "-------------------------------\n",
      "classification report\n",
      "              precision    recall  f1-score   support\n",
      "\n",
      "           0       0.75      0.85      0.80       132\n",
      "           1       0.69      0.55      0.61        82\n",
      "\n",
      "    accuracy                           0.73       214\n",
      "   macro avg       0.72      0.70      0.70       214\n",
      "weighted avg       0.73      0.73      0.73       214\n",
      "\n",
      "-------------------------------\n",
      "\n",
      "confusion matrix\n",
      "[[112  20]\n",
      " [ 37  45]]\n",
      "\n",
      "validate data set model metrics\n",
      "---------------------------------\n",
      "True positive rate for the model is 54.88%\n",
      "False positive rate for the model is  15.15%\n",
      "True negative rate for the model is 84.85%\n",
      "False negative rate for the model is 45.12%\n",
      "\n",
      "_-_-_-_-_-_-_-_-_-_-_-_-_-_-_-_-_-\n",
      "\n",
      " 2: Test accuracy = 77.65%, Validate accuracy = 76.17%\n",
      "\n",
      "train data set accuracy score: 80.12%\n",
      "train data set precision score 96.94%\n",
      "train data set recall score: 49.74%\n",
      "\n",
      "-------------------------------\n",
      "classification report\n",
      "              precision    recall  f1-score   support\n",
      "\n",
      "           0       0.76      0.99      0.86       307\n",
      "           1       0.97      0.50      0.66       191\n",
      "\n",
      "    accuracy                           0.80       498\n",
      "   macro avg       0.86      0.74      0.76       498\n",
      "weighted avg       0.84      0.80      0.78       498\n",
      "\n",
      "-------------------------------\n",
      "\n",
      "confusion matrix\n",
      "[[304   3]\n",
      " [ 96  95]]\n",
      "\n",
      "train data set model metrics\n",
      "---------------------------------\n",
      "True positive rate for the model is 49.74%\n",
      "False positive rate for the model is  0.98%\n",
      "True negative rate for the model is 99.02%\n",
      "False negative rate for the model is 50.26%\n",
      "\n",
      "validate data set accuracy score: 76.17%\n",
      "validate data set precision score 89.74%\n",
      "validate data set recall score: 42.68%\n",
      "\n",
      "-------------------------------\n",
      "classification report\n",
      "              precision    recall  f1-score   support\n",
      "\n",
      "           0       0.73      0.97      0.83       132\n",
      "           1       0.90      0.43      0.58        82\n",
      "\n",
      "    accuracy                           0.76       214\n",
      "   macro avg       0.81      0.70      0.71       214\n",
      "weighted avg       0.80      0.76      0.74       214\n",
      "\n",
      "-------------------------------\n",
      "\n",
      "confusion matrix\n",
      "[[128   4]\n",
      " [ 47  35]]\n",
      "\n",
      "validate data set model metrics\n",
      "---------------------------------\n",
      "True positive rate for the model is 42.68%\n",
      "False positive rate for the model is  3.03%\n",
      "True negative rate for the model is 96.97%\n",
      "False negative rate for the model is 57.32%\n",
      "\n",
      "_-_-_-_-_-_-_-_-_-_-_-_-_-_-_-_-_-\n",
      "\n",
      " 3: Test accuracy = 73.18%, Validate accuracy = 68.69%\n",
      "\n",
      "train data set accuracy score: 74.30%\n",
      "train data set precision score 72.34%\n",
      "train data set recall score: 53.40%\n",
      "\n",
      "-------------------------------\n",
      "classification report\n",
      "              precision    recall  f1-score   support\n",
      "\n",
      "           0       0.75      0.87      0.81       307\n",
      "           1       0.72      0.53      0.61       191\n",
      "\n",
      "    accuracy                           0.74       498\n",
      "   macro avg       0.74      0.70      0.71       498\n",
      "weighted avg       0.74      0.74      0.73       498\n",
      "\n",
      "-------------------------------\n",
      "\n",
      "confusion matrix\n",
      "[[268  39]\n",
      " [ 89 102]]\n",
      "\n",
      "train data set model metrics\n",
      "---------------------------------\n",
      "True positive rate for the model is 53.40%\n",
      "False positive rate for the model is  12.70%\n",
      "True negative rate for the model is 87.30%\n",
      "False negative rate for the model is 46.60%\n",
      "\n",
      "validate data set accuracy score: 68.69%\n",
      "validate data set precision score 62.30%\n",
      "validate data set recall score: 46.34%\n",
      "\n",
      "-------------------------------\n",
      "classification report\n",
      "              precision    recall  f1-score   support\n",
      "\n",
      "           0       0.71      0.83      0.76       132\n",
      "           1       0.62      0.46      0.53        82\n",
      "\n",
      "    accuracy                           0.69       214\n",
      "   macro avg       0.67      0.64      0.65       214\n",
      "weighted avg       0.68      0.69      0.68       214\n",
      "\n",
      "-------------------------------\n",
      "\n",
      "confusion matrix\n",
      "[[109  23]\n",
      " [ 44  38]]\n",
      "\n",
      "validate data set model metrics\n",
      "---------------------------------\n",
      "True positive rate for the model is 46.34%\n",
      "False positive rate for the model is  17.42%\n",
      "True negative rate for the model is 82.58%\n",
      "False negative rate for the model is 53.66%\n",
      "\n",
      "_-_-_-_-_-_-_-_-_-_-_-_-_-_-_-_-_-\n",
      "\n",
      " 4: Test accuracy = 77.65%, Validate accuracy = 76.17%\n",
      "\n",
      "train data set accuracy score: 80.12%\n",
      "train data set precision score 96.94%\n",
      "train data set recall score: 49.74%\n",
      "\n",
      "-------------------------------\n",
      "classification report\n",
      "              precision    recall  f1-score   support\n",
      "\n",
      "           0       0.76      0.99      0.86       307\n",
      "           1       0.97      0.50      0.66       191\n",
      "\n",
      "    accuracy                           0.80       498\n",
      "   macro avg       0.86      0.74      0.76       498\n",
      "weighted avg       0.84      0.80      0.78       498\n",
      "\n",
      "-------------------------------\n",
      "\n",
      "confusion matrix\n",
      "[[304   3]\n",
      " [ 96  95]]\n",
      "\n",
      "train data set model metrics\n",
      "---------------------------------\n",
      "True positive rate for the model is 49.74%\n",
      "False positive rate for the model is  0.98%\n",
      "True negative rate for the model is 99.02%\n",
      "False negative rate for the model is 50.26%\n",
      "\n",
      "validate data set accuracy score: 76.17%\n",
      "validate data set precision score 89.74%\n",
      "validate data set recall score: 42.68%\n",
      "\n",
      "-------------------------------\n",
      "classification report\n",
      "              precision    recall  f1-score   support\n",
      "\n",
      "           0       0.73      0.97      0.83       132\n",
      "           1       0.90      0.43      0.58        82\n",
      "\n",
      "    accuracy                           0.76       214\n",
      "   macro avg       0.81      0.70      0.71       214\n",
      "weighted avg       0.80      0.76      0.74       214\n",
      "\n",
      "-------------------------------\n",
      "\n",
      "confusion matrix\n",
      "[[128   4]\n",
      " [ 47  35]]\n",
      "\n",
      "validate data set model metrics\n",
      "---------------------------------\n",
      "True positive rate for the model is 42.68%\n",
      "False positive rate for the model is  3.03%\n",
      "True negative rate for the model is 96.97%\n",
      "False negative rate for the model is 57.32%\n",
      "\n",
      "_-_-_-_-_-_-_-_-_-_-_-_-_-_-_-_-_-\n",
      "\n",
      " 5: Test accuracy = 77.65%, Validate accuracy = 76.17%\n",
      "\n",
      "train data set accuracy score: 80.12%\n",
      "train data set precision score 96.94%\n",
      "train data set recall score: 49.74%\n",
      "\n",
      "-------------------------------\n",
      "classification report\n",
      "              precision    recall  f1-score   support\n",
      "\n",
      "           0       0.76      0.99      0.86       307\n",
      "           1       0.97      0.50      0.66       191\n",
      "\n",
      "    accuracy                           0.80       498\n",
      "   macro avg       0.86      0.74      0.76       498\n",
      "weighted avg       0.84      0.80      0.78       498\n",
      "\n",
      "-------------------------------\n",
      "\n",
      "confusion matrix\n",
      "[[304   3]\n",
      " [ 96  95]]\n",
      "\n",
      "train data set model metrics\n",
      "---------------------------------\n",
      "True positive rate for the model is 49.74%\n",
      "False positive rate for the model is  0.98%\n",
      "True negative rate for the model is 99.02%\n",
      "False negative rate for the model is 50.26%\n",
      "\n",
      "validate data set accuracy score: 76.17%\n",
      "validate data set precision score 89.74%\n",
      "validate data set recall score: 42.68%\n",
      "\n",
      "-------------------------------\n",
      "classification report\n",
      "              precision    recall  f1-score   support\n",
      "\n",
      "           0       0.73      0.97      0.83       132\n",
      "           1       0.90      0.43      0.58        82\n",
      "\n",
      "    accuracy                           0.76       214\n",
      "   macro avg       0.81      0.70      0.71       214\n",
      "weighted avg       0.80      0.76      0.74       214\n",
      "\n",
      "-------------------------------\n",
      "\n",
      "confusion matrix\n",
      "[[128   4]\n",
      " [ 47  35]]\n",
      "\n",
      "validate data set model metrics\n",
      "---------------------------------\n",
      "True positive rate for the model is 42.68%\n",
      "False positive rate for the model is  3.03%\n",
      "True negative rate for the model is 96.97%\n",
      "False negative rate for the model is 57.32%\n",
      "\n",
      "_-_-_-_-_-_-_-_-_-_-_-_-_-_-_-_-_-\n",
      "\n",
      " 6: Test accuracy = 77.65%, Validate accuracy = 76.17%\n",
      "\n",
      "train data set accuracy score: 80.12%\n",
      "train data set precision score 96.94%\n",
      "train data set recall score: 49.74%\n",
      "\n",
      "-------------------------------\n",
      "classification report\n",
      "              precision    recall  f1-score   support\n",
      "\n",
      "           0       0.76      0.99      0.86       307\n",
      "           1       0.97      0.50      0.66       191\n",
      "\n",
      "    accuracy                           0.80       498\n",
      "   macro avg       0.86      0.74      0.76       498\n",
      "weighted avg       0.84      0.80      0.78       498\n",
      "\n",
      "-------------------------------\n",
      "\n",
      "confusion matrix\n",
      "[[304   3]\n",
      " [ 96  95]]\n",
      "\n",
      "train data set model metrics\n",
      "---------------------------------\n",
      "True positive rate for the model is 49.74%\n",
      "False positive rate for the model is  0.98%\n",
      "True negative rate for the model is 99.02%\n",
      "False negative rate for the model is 50.26%\n",
      "\n",
      "validate data set accuracy score: 76.17%\n",
      "validate data set precision score 89.74%\n",
      "validate data set recall score: 42.68%\n",
      "\n",
      "-------------------------------\n",
      "classification report\n",
      "              precision    recall  f1-score   support\n",
      "\n",
      "           0       0.73      0.97      0.83       132\n",
      "           1       0.90      0.43      0.58        82\n",
      "\n",
      "    accuracy                           0.76       214\n",
      "   macro avg       0.81      0.70      0.71       214\n",
      "weighted avg       0.80      0.76      0.74       214\n",
      "\n",
      "-------------------------------\n",
      "\n",
      "confusion matrix\n",
      "[[128   4]\n",
      " [ 47  35]]\n",
      "\n",
      "validate data set model metrics\n",
      "---------------------------------\n",
      "True positive rate for the model is 42.68%\n",
      "False positive rate for the model is  3.03%\n",
      "True negative rate for the model is 96.97%\n",
      "False negative rate for the model is 57.32%\n",
      "\n",
      "_-_-_-_-_-_-_-_-_-_-_-_-_-_-_-_-_-\n",
      "\n",
      " 7: Test accuracy = 77.65%, Validate accuracy = 76.17%\n",
      "\n",
      "train data set accuracy score: 80.12%\n",
      "train data set precision score 96.94%\n",
      "train data set recall score: 49.74%\n",
      "\n",
      "-------------------------------\n",
      "classification report\n",
      "              precision    recall  f1-score   support\n",
      "\n",
      "           0       0.76      0.99      0.86       307\n",
      "           1       0.97      0.50      0.66       191\n",
      "\n",
      "    accuracy                           0.80       498\n",
      "   macro avg       0.86      0.74      0.76       498\n",
      "weighted avg       0.84      0.80      0.78       498\n",
      "\n",
      "-------------------------------\n",
      "\n",
      "confusion matrix\n",
      "[[304   3]\n",
      " [ 96  95]]\n",
      "\n",
      "train data set model metrics\n",
      "---------------------------------\n",
      "True positive rate for the model is 49.74%\n",
      "False positive rate for the model is  0.98%\n",
      "True negative rate for the model is 99.02%\n",
      "False negative rate for the model is 50.26%\n",
      "\n",
      "validate data set accuracy score: 76.17%\n",
      "validate data set precision score 89.74%\n",
      "validate data set recall score: 42.68%\n",
      "\n",
      "-------------------------------\n",
      "classification report\n",
      "              precision    recall  f1-score   support\n",
      "\n",
      "           0       0.73      0.97      0.83       132\n",
      "           1       0.90      0.43      0.58        82\n",
      "\n",
      "    accuracy                           0.76       214\n",
      "   macro avg       0.81      0.70      0.71       214\n",
      "weighted avg       0.80      0.76      0.74       214\n",
      "\n",
      "-------------------------------\n",
      "\n",
      "confusion matrix\n",
      "[[128   4]\n",
      " [ 47  35]]\n",
      "\n",
      "validate data set model metrics\n",
      "---------------------------------\n",
      "True positive rate for the model is 42.68%\n",
      "False positive rate for the model is  3.03%\n",
      "True negative rate for the model is 96.97%\n",
      "False negative rate for the model is 57.32%\n",
      "\n",
      "_-_-_-_-_-_-_-_-_-_-_-_-_-_-_-_-_-\n",
      "\n",
      " 8: Test accuracy = 77.65%, Validate accuracy = 76.17%\n",
      "\n",
      "train data set accuracy score: 80.12%\n",
      "train data set precision score 96.94%\n",
      "train data set recall score: 49.74%\n",
      "\n",
      "-------------------------------\n",
      "classification report\n",
      "              precision    recall  f1-score   support\n",
      "\n",
      "           0       0.76      0.99      0.86       307\n",
      "           1       0.97      0.50      0.66       191\n",
      "\n",
      "    accuracy                           0.80       498\n",
      "   macro avg       0.86      0.74      0.76       498\n",
      "weighted avg       0.84      0.80      0.78       498\n",
      "\n",
      "-------------------------------\n",
      "\n",
      "confusion matrix\n",
      "[[304   3]\n",
      " [ 96  95]]\n",
      "\n",
      "train data set model metrics\n",
      "---------------------------------\n",
      "True positive rate for the model is 49.74%\n",
      "False positive rate for the model is  0.98%\n",
      "True negative rate for the model is 99.02%\n",
      "False negative rate for the model is 50.26%\n",
      "\n",
      "validate data set accuracy score: 76.17%\n",
      "validate data set precision score 89.74%\n",
      "validate data set recall score: 42.68%\n",
      "\n",
      "-------------------------------\n",
      "classification report\n",
      "              precision    recall  f1-score   support\n",
      "\n",
      "           0       0.73      0.97      0.83       132\n",
      "           1       0.90      0.43      0.58        82\n",
      "\n",
      "    accuracy                           0.76       214\n",
      "   macro avg       0.81      0.70      0.71       214\n",
      "weighted avg       0.80      0.76      0.74       214\n",
      "\n",
      "-------------------------------\n",
      "\n",
      "confusion matrix\n",
      "[[128   4]\n",
      " [ 47  35]]\n",
      "\n",
      "validate data set model metrics\n",
      "---------------------------------\n",
      "True positive rate for the model is 42.68%\n",
      "False positive rate for the model is  3.03%\n",
      "True negative rate for the model is 96.97%\n",
      "False negative rate for the model is 57.32%\n",
      "\n",
      "_-_-_-_-_-_-_-_-_-_-_-_-_-_-_-_-_-\n",
      "\n",
      " 9: Test accuracy = 77.65%, Validate accuracy = 76.17%\n",
      "\n",
      "train data set accuracy score: 80.12%\n",
      "train data set precision score 96.94%\n",
      "train data set recall score: 49.74%\n",
      "\n",
      "-------------------------------\n",
      "classification report\n",
      "              precision    recall  f1-score   support\n",
      "\n",
      "           0       0.76      0.99      0.86       307\n",
      "           1       0.97      0.50      0.66       191\n",
      "\n",
      "    accuracy                           0.80       498\n",
      "   macro avg       0.86      0.74      0.76       498\n",
      "weighted avg       0.84      0.80      0.78       498\n",
      "\n",
      "-------------------------------\n",
      "\n",
      "confusion matrix\n",
      "[[304   3]\n",
      " [ 96  95]]\n",
      "\n",
      "train data set model metrics\n",
      "---------------------------------\n",
      "True positive rate for the model is 49.74%\n",
      "False positive rate for the model is  0.98%\n",
      "True negative rate for the model is 99.02%\n",
      "False negative rate for the model is 50.26%\n",
      "\n",
      "validate data set accuracy score: 76.17%\n",
      "validate data set precision score 89.74%\n",
      "validate data set recall score: 42.68%\n",
      "\n",
      "-------------------------------\n",
      "classification report\n",
      "              precision    recall  f1-score   support\n",
      "\n",
      "           0       0.73      0.97      0.83       132\n",
      "           1       0.90      0.43      0.58        82\n",
      "\n",
      "    accuracy                           0.76       214\n",
      "   macro avg       0.81      0.70      0.71       214\n",
      "weighted avg       0.80      0.76      0.74       214\n",
      "\n",
      "-------------------------------\n",
      "\n",
      "confusion matrix\n",
      "[[128   4]\n",
      " [ 47  35]]\n",
      "\n",
      "validate data set model metrics\n",
      "---------------------------------\n",
      "True positive rate for the model is 42.68%\n",
      "False positive rate for the model is  3.03%\n",
      "True negative rate for the model is 96.97%\n",
      "False negative rate for the model is 57.32%\n",
      "\n",
      "_-_-_-_-_-_-_-_-_-_-_-_-_-_-_-_-_-\n",
      "\n",
      "10: Test accuracy = 77.65%, Validate accuracy = 76.17%\n",
      "\n",
      "train data set accuracy score: 80.12%\n",
      "train data set precision score 96.94%\n",
      "train data set recall score: 49.74%\n",
      "\n",
      "-------------------------------\n",
      "classification report\n",
      "              precision    recall  f1-score   support\n",
      "\n",
      "           0       0.76      0.99      0.86       307\n",
      "           1       0.97      0.50      0.66       191\n",
      "\n",
      "    accuracy                           0.80       498\n",
      "   macro avg       0.86      0.74      0.76       498\n",
      "weighted avg       0.84      0.80      0.78       498\n",
      "\n",
      "-------------------------------\n",
      "\n",
      "confusion matrix\n",
      "[[304   3]\n",
      " [ 96  95]]\n",
      "\n",
      "train data set model metrics\n",
      "---------------------------------\n",
      "True positive rate for the model is 49.74%\n",
      "False positive rate for the model is  0.98%\n",
      "True negative rate for the model is 99.02%\n",
      "False negative rate for the model is 50.26%\n",
      "\n",
      "validate data set accuracy score: 76.17%\n",
      "validate data set precision score 89.74%\n",
      "validate data set recall score: 42.68%\n",
      "\n",
      "-------------------------------\n",
      "classification report\n",
      "              precision    recall  f1-score   support\n",
      "\n",
      "           0       0.73      0.97      0.83       132\n",
      "           1       0.90      0.43      0.58        82\n",
      "\n",
      "    accuracy                           0.76       214\n",
      "   macro avg       0.81      0.70      0.71       214\n",
      "weighted avg       0.80      0.76      0.74       214\n",
      "\n",
      "-------------------------------\n",
      "\n",
      "confusion matrix\n",
      "[[128   4]\n",
      " [ 47  35]]\n",
      "\n",
      "validate data set model metrics\n",
      "---------------------------------\n",
      "True positive rate for the model is 42.68%\n",
      "False positive rate for the model is  3.03%\n",
      "True negative rate for the model is 96.97%\n",
      "False negative rate for the model is 57.32%\n",
      "\n",
      "_-_-_-_-_-_-_-_-_-_-_-_-_-_-_-_-_-\n",
      "\n",
      "11: Test accuracy = 77.65%, Validate accuracy = 76.17%\n",
      "\n",
      "train data set accuracy score: 80.12%\n",
      "train data set precision score 96.94%\n",
      "train data set recall score: 49.74%\n",
      "\n",
      "-------------------------------\n",
      "classification report\n",
      "              precision    recall  f1-score   support\n",
      "\n",
      "           0       0.76      0.99      0.86       307\n",
      "           1       0.97      0.50      0.66       191\n",
      "\n",
      "    accuracy                           0.80       498\n",
      "   macro avg       0.86      0.74      0.76       498\n",
      "weighted avg       0.84      0.80      0.78       498\n",
      "\n",
      "-------------------------------\n",
      "\n",
      "confusion matrix\n",
      "[[304   3]\n",
      " [ 96  95]]\n",
      "\n",
      "train data set model metrics\n",
      "---------------------------------\n",
      "True positive rate for the model is 49.74%\n",
      "False positive rate for the model is  0.98%\n",
      "True negative rate for the model is 99.02%\n",
      "False negative rate for the model is 50.26%\n",
      "\n",
      "validate data set accuracy score: 76.17%\n",
      "validate data set precision score 89.74%\n",
      "validate data set recall score: 42.68%\n",
      "\n",
      "-------------------------------\n",
      "classification report\n",
      "              precision    recall  f1-score   support\n",
      "\n",
      "           0       0.73      0.97      0.83       132\n",
      "           1       0.90      0.43      0.58        82\n",
      "\n",
      "    accuracy                           0.76       214\n",
      "   macro avg       0.81      0.70      0.71       214\n",
      "weighted avg       0.80      0.76      0.74       214\n",
      "\n",
      "-------------------------------\n",
      "\n",
      "confusion matrix\n",
      "[[128   4]\n",
      " [ 47  35]]\n",
      "\n",
      "validate data set model metrics\n",
      "---------------------------------\n",
      "True positive rate for the model is 42.68%\n",
      "False positive rate for the model is  3.03%\n",
      "True negative rate for the model is 96.97%\n",
      "False negative rate for the model is 57.32%\n",
      "\n",
      "_-_-_-_-_-_-_-_-_-_-_-_-_-_-_-_-_-\n",
      "\n",
      "12: Test accuracy = 77.65%, Validate accuracy = 76.17%\n",
      "\n",
      "train data set accuracy score: 80.12%\n",
      "train data set precision score 96.94%\n",
      "train data set recall score: 49.74%\n",
      "\n",
      "-------------------------------\n",
      "classification report\n",
      "              precision    recall  f1-score   support\n",
      "\n",
      "           0       0.76      0.99      0.86       307\n",
      "           1       0.97      0.50      0.66       191\n",
      "\n",
      "    accuracy                           0.80       498\n",
      "   macro avg       0.86      0.74      0.76       498\n",
      "weighted avg       0.84      0.80      0.78       498\n",
      "\n",
      "-------------------------------\n",
      "\n",
      "confusion matrix\n",
      "[[304   3]\n",
      " [ 96  95]]\n",
      "\n",
      "train data set model metrics\n",
      "---------------------------------\n",
      "True positive rate for the model is 49.74%\n",
      "False positive rate for the model is  0.98%\n",
      "True negative rate for the model is 99.02%\n",
      "False negative rate for the model is 50.26%\n",
      "\n",
      "validate data set accuracy score: 76.17%\n",
      "validate data set precision score 89.74%\n",
      "validate data set recall score: 42.68%\n",
      "\n",
      "-------------------------------\n",
      "classification report\n",
      "              precision    recall  f1-score   support\n",
      "\n",
      "           0       0.73      0.97      0.83       132\n",
      "           1       0.90      0.43      0.58        82\n",
      "\n",
      "    accuracy                           0.76       214\n",
      "   macro avg       0.81      0.70      0.71       214\n",
      "weighted avg       0.80      0.76      0.74       214\n",
      "\n",
      "-------------------------------\n",
      "\n",
      "confusion matrix\n",
      "[[128   4]\n",
      " [ 47  35]]\n",
      "\n",
      "validate data set model metrics\n",
      "---------------------------------\n",
      "True positive rate for the model is 42.68%\n",
      "False positive rate for the model is  3.03%\n",
      "True negative rate for the model is 96.97%\n",
      "False negative rate for the model is 57.32%\n",
      "\n",
      "_-_-_-_-_-_-_-_-_-_-_-_-_-_-_-_-_-\n",
      "\n"
     ]
    }
   ],
   "source": [
    "for k in range(1, 13):\n",
    "    knn = KNeighborsClassifier(n_neighbors=k)\n",
    "    knn.fit(X_train, y_train)\n",
    "    taccuracy = knn.score(X_test, y_test)\n",
    "    vaccuracy = knn.score(X_validate, y_validate)\n",
    "    print(f'{k:2d}: Test accuracy = {taccuracy:.2%}, Validate accuracy = {vaccuracy:.2%}\\n')\n",
    "    run_metrics(knn, 'train')\n",
    "    run_metrics(knn, 'validate')\n",
    "    print(f'_-_-_-_-_-_-_-_-_-_-_-_-_-_-_-_-_-\\n')"
   ]
  },
  {
   "cell_type": "markdown",
   "metadata": {},
   "source": [
    "# Logistic Regression Exercises"
   ]
  },
  {
   "cell_type": "code",
   "execution_count": 9,
   "metadata": {},
   "outputs": [
    {
     "data": {
      "text/html": [
       "<div>\n",
       "<style scoped>\n",
       "    .dataframe tbody tr th:only-of-type {\n",
       "        vertical-align: middle;\n",
       "    }\n",
       "\n",
       "    .dataframe tbody tr th {\n",
       "        vertical-align: top;\n",
       "    }\n",
       "\n",
       "    .dataframe thead th {\n",
       "        text-align: right;\n",
       "    }\n",
       "</style>\n",
       "<table border=\"1\" class=\"dataframe\">\n",
       "  <thead>\n",
       "    <tr style=\"text-align: right;\">\n",
       "      <th></th>\n",
       "      <th>survived</th>\n",
       "      <th>pclass</th>\n",
       "      <th>sibsp</th>\n",
       "      <th>parch</th>\n",
       "      <th>fare</th>\n",
       "      <th>alone</th>\n",
       "      <th>sex_male</th>\n",
       "      <th>embark_town_Queenstown</th>\n",
       "      <th>embark_town_Southampton</th>\n",
       "    </tr>\n",
       "  </thead>\n",
       "  <tbody>\n",
       "    <tr>\n",
       "      <th>474</th>\n",
       "      <td>0</td>\n",
       "      <td>3</td>\n",
       "      <td>0</td>\n",
       "      <td>0</td>\n",
       "      <td>9.8375</td>\n",
       "      <td>1</td>\n",
       "      <td>0</td>\n",
       "      <td>0</td>\n",
       "      <td>1</td>\n",
       "    </tr>\n",
       "    <tr>\n",
       "      <th>370</th>\n",
       "      <td>1</td>\n",
       "      <td>1</td>\n",
       "      <td>1</td>\n",
       "      <td>0</td>\n",
       "      <td>55.4417</td>\n",
       "      <td>0</td>\n",
       "      <td>1</td>\n",
       "      <td>0</td>\n",
       "      <td>0</td>\n",
       "    </tr>\n",
       "    <tr>\n",
       "      <th>573</th>\n",
       "      <td>1</td>\n",
       "      <td>3</td>\n",
       "      <td>0</td>\n",
       "      <td>0</td>\n",
       "      <td>7.7500</td>\n",
       "      <td>1</td>\n",
       "      <td>0</td>\n",
       "      <td>1</td>\n",
       "      <td>0</td>\n",
       "    </tr>\n",
       "    <tr>\n",
       "      <th>110</th>\n",
       "      <td>0</td>\n",
       "      <td>1</td>\n",
       "      <td>0</td>\n",
       "      <td>0</td>\n",
       "      <td>52.0000</td>\n",
       "      <td>1</td>\n",
       "      <td>1</td>\n",
       "      <td>0</td>\n",
       "      <td>1</td>\n",
       "    </tr>\n",
       "    <tr>\n",
       "      <th>167</th>\n",
       "      <td>0</td>\n",
       "      <td>3</td>\n",
       "      <td>1</td>\n",
       "      <td>4</td>\n",
       "      <td>27.9000</td>\n",
       "      <td>0</td>\n",
       "      <td>0</td>\n",
       "      <td>0</td>\n",
       "      <td>1</td>\n",
       "    </tr>\n",
       "  </tbody>\n",
       "</table>\n",
       "</div>"
      ],
      "text/plain": [
       "     survived  pclass  sibsp  parch     fare  alone  sex_male  \\\n",
       "474         0       3      0      0   9.8375      1         0   \n",
       "370         1       1      1      0  55.4417      0         1   \n",
       "573         1       3      0      0   7.7500      1         0   \n",
       "110         0       1      0      0  52.0000      1         1   \n",
       "167         0       3      1      4  27.9000      0         0   \n",
       "\n",
       "     embark_town_Queenstown  embark_town_Southampton  \n",
       "474                       0                        1  \n",
       "370                       0                        0  \n",
       "573                       1                        0  \n",
       "110                       0                        1  \n",
       "167                       0                        1  "
      ]
     },
     "execution_count": 9,
     "metadata": {},
     "output_type": "execute_result"
    }
   ],
   "source": [
    "train.head()"
   ]
  },
  {
   "cell_type": "code",
   "execution_count": 14,
   "metadata": {},
   "outputs": [],
   "source": [
    "X_cols = ['pclass', 'sex_male', 'alone', 'fare']\n",
    "y_col = 'survived'\n",
    "X_train, y_train = train[X_cols], train[y_col]\n",
    "X_validate, y_validate = validate[X_cols], validate[y_col]\n",
    "X_test, y_test = test[X_cols], test[y_col]"
   ]
  },
  {
   "cell_type": "code",
   "execution_count": 15,
   "metadata": {},
   "outputs": [],
   "source": [
    "logit = LogisticRegression(class_weight='balanced', random_state=123)"
   ]
  },
  {
   "cell_type": "code",
   "execution_count": 16,
   "metadata": {},
   "outputs": [
    {
     "data": {
      "text/plain": [
       "LogisticRegression(class_weight='balanced', random_state=123)"
      ]
     },
     "execution_count": 16,
     "metadata": {},
     "output_type": "execute_result"
    }
   ],
   "source": [
    "logit.fit(X_train, y_train)"
   ]
  },
  {
   "cell_type": "code",
   "execution_count": 17,
   "metadata": {},
   "outputs": [
    {
     "data": {
      "text/plain": [
       "array([1, 1, 1, 1, 1, 0, 1, 0, 0, 0, 1, 0, 1, 0, 1, 0, 0, 0, 0, 1, 0, 0,\n",
       "       1, 0, 0, 1, 0, 0, 1, 1, 0, 0, 0, 0, 0, 0, 0, 1, 1, 1, 0, 1, 0, 0,\n",
       "       0, 1, 0, 1, 1, 0, 1, 1, 0, 1, 1, 1, 0, 0, 1, 0, 1, 0, 0, 0, 1, 1,\n",
       "       1, 1, 0, 1, 1, 1, 0, 1, 0, 1, 0, 0, 1, 1, 1, 1, 1, 0, 0, 1, 0, 1,\n",
       "       0, 1, 1, 0, 1, 0, 0, 0, 0, 0, 0, 1, 1, 0, 1, 1, 0, 1, 0, 0, 0, 0,\n",
       "       1, 1, 1, 1, 0, 0, 1, 1, 1, 1, 1, 1, 0, 1, 0, 1, 0, 0, 1, 0, 1, 1,\n",
       "       0, 1, 1, 0, 1, 1, 0, 0, 1, 1, 0, 0, 1, 1, 1, 0, 0, 0, 1, 1, 1, 1,\n",
       "       0, 0, 1, 1, 0, 1, 1, 0, 1, 1, 1, 1, 0, 0, 1, 0, 1, 1, 1, 1, 0, 1,\n",
       "       1, 0, 1, 1, 0, 1, 0, 1, 1, 0, 0, 0, 1, 1, 1, 0, 0, 0, 0, 0, 0, 1,\n",
       "       1, 1, 1, 1, 1, 1, 0, 1, 0, 0, 1, 0, 1, 0, 0, 0, 0, 0, 1, 0, 0, 1,\n",
       "       1, 0, 1, 1, 0, 1, 1, 0, 0, 1, 1, 0, 1, 0, 0, 0, 0, 1, 1, 0, 0, 1,\n",
       "       0, 0, 1, 0, 1, 0, 0, 0, 0, 1, 0, 0, 0, 1, 1, 1, 0, 1, 1, 0, 0, 0,\n",
       "       1, 1, 0, 1, 0, 1, 0, 1, 1, 1, 0, 0, 1, 0, 0, 1, 0, 1, 1, 0, 0, 0,\n",
       "       1, 0, 0, 1, 0, 1, 0, 1, 1, 0, 0, 0, 1, 0, 0, 0, 0, 0, 0, 1, 0, 1,\n",
       "       0, 0, 0, 0, 1, 0, 1, 1, 1, 0, 1, 1, 1, 0, 1, 1, 0, 1, 1, 0, 1, 1,\n",
       "       1, 1, 0, 1, 0, 0, 0, 1, 0, 0, 0, 0, 0, 1, 0, 1, 0, 0, 1, 0, 0, 0,\n",
       "       0, 1, 0, 0, 0, 0, 1, 1, 1, 0, 1, 0, 1, 0, 1, 1, 0, 0, 1, 0, 1, 0,\n",
       "       1, 1, 0, 0, 1, 0, 0, 1, 0, 0, 1, 0, 0, 1, 1, 0, 1, 0, 1, 1, 1, 1,\n",
       "       1, 1, 0, 1, 1, 1, 1, 1, 0, 1, 0, 1, 0, 0, 1, 0, 0, 0, 0, 0, 1, 0,\n",
       "       1, 0, 1, 1, 1, 1, 0, 0, 1, 1, 0, 0, 0, 1, 1, 0, 0, 0, 0, 0, 0, 0,\n",
       "       0, 1, 1, 0, 0, 1, 1, 0, 0, 0, 1, 1, 0, 1, 0, 0, 0, 1, 1, 1, 0, 1,\n",
       "       0, 0, 0, 0, 1, 0, 0, 1, 0, 1, 0, 0, 0, 0, 1, 0, 0, 0, 1, 0, 0, 0,\n",
       "       0, 1, 1, 0, 1, 0, 1, 1, 1, 0, 0, 0, 0, 0])"
      ]
     },
     "execution_count": 17,
     "metadata": {},
     "output_type": "execute_result"
    }
   ],
   "source": [
    "y_pred = logit.predict(X_train)\n",
    "y_pred"
   ]
  },
  {
   "cell_type": "code",
   "execution_count": 20,
   "metadata": {},
   "outputs": [
    {
     "data": {
      "text/plain": [
       "LogisticRegression(class_weight='balanced', random_state=123)"
      ]
     },
     "execution_count": 20,
     "metadata": {},
     "output_type": "execute_result"
    }
   ],
   "source": [
    "features = [ 'pclass', 'fare']\n",
    "logit.fit(X_train[features], y_train)"
   ]
  },
  {
   "cell_type": "code",
   "execution_count": null,
   "metadata": {},
   "outputs": [],
   "source": []
  }
 ],
 "metadata": {
  "kernelspec": {
   "display_name": "Python 3",
   "language": "python",
   "name": "python3"
  },
  "language_info": {
   "codemirror_mode": {
    "name": "ipython",
    "version": 3
   },
   "file_extension": ".py",
   "mimetype": "text/x-python",
   "name": "python",
   "nbconvert_exporter": "python",
   "pygments_lexer": "ipython3",
   "version": "3.8.5"
  }
 },
 "nbformat": 4,
 "nbformat_minor": 4
}
